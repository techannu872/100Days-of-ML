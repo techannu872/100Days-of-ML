{
  "nbformat": 4,
  "nbformat_minor": 0,
  "metadata": {
    "colab": {
      "provenance": []
    },
    "kernelspec": {
      "name": "python3",
      "display_name": "Python 3"
    },
    "language_info": {
      "name": "python"
    }
  },
  "cells": [
    {
      "cell_type": "markdown",
      "source": [
        "## **Implementation of training model using Scikit-learn(without using pipelines(again bohot hi zyada kutaana hai))**"
      ],
      "metadata": {
        "id": "RX25cuwxa1bT"
      }
    },
    {
      "cell_type": "code",
      "execution_count": 9,
      "metadata": {
        "id": "u-vZtIPMadVp"
      },
      "outputs": [],
      "source": [
        "import pickle\n",
        "import numpy as np\n"
      ]
    },
    {
      "cell_type": "code",
      "source": [
        "ohe_sex = pickle.load(open('/content/ohe_sex.pkl','rb'))\n",
        "ohe_embarked = pickle.load(open('/content/ohe_embarked.pkl','rb'))\n",
        "clf = pickle.load(open('/content/clf.pkl','rb'))"
      ],
      "metadata": {
        "id": "Zl0qnEz1a1B2"
      },
      "execution_count": 10,
      "outputs": []
    },
    {
      "cell_type": "code",
      "source": [
        "# Assume user input\n",
        "# Pclass/gender/age/SibSp/Parch/Fare/Embarked\n",
        "test_input = np.array([2, 'male', 31.0, 0, 0, 10.5, 'S'],dtype=object).reshape(1,7)"
      ],
      "metadata": {
        "id": "rk7M00HPc4eE"
      },
      "execution_count": 11,
      "outputs": []
    },
    {
      "cell_type": "code",
      "source": [
        "test_input"
      ],
      "metadata": {
        "colab": {
          "base_uri": "https://localhost:8080/"
        },
        "id": "MTND7X3Dd71R",
        "outputId": "fa5ed987-05bf-4b61-aad0-b49f763309ad"
      },
      "execution_count": 12,
      "outputs": [
        {
          "output_type": "execute_result",
          "data": {
            "text/plain": [
              "array([[2, 'male', 31.0, 0, 0, 10.5, 'S']], dtype=object)"
            ]
          },
          "metadata": {},
          "execution_count": 12
        }
      ]
    },
    {
      "cell_type": "code",
      "source": [
        "test_input_sex = ohe_sex.transform(test_input[:,1].reshape(1,1))"
      ],
      "metadata": {
        "colab": {
          "base_uri": "https://localhost:8080/"
        },
        "id": "n8BcNB2bd_5I",
        "outputId": "290606ab-f9d6-43fe-ae12-60de315f17f6"
      },
      "execution_count": 13,
      "outputs": [
        {
          "output_type": "stream",
          "name": "stderr",
          "text": [
            "/usr/local/lib/python3.10/dist-packages/sklearn/base.py:439: UserWarning: X does not have valid feature names, but OneHotEncoder was fitted with feature names\n",
            "  warnings.warn(\n"
          ]
        }
      ]
    },
    {
      "cell_type": "code",
      "source": [
        "test_input_sex"
      ],
      "metadata": {
        "colab": {
          "base_uri": "https://localhost:8080/"
        },
        "id": "Qkgn1Tu8eEUY",
        "outputId": "bf070681-7ef5-440a-d3ba-008b5a3778f5"
      },
      "execution_count": 14,
      "outputs": [
        {
          "output_type": "execute_result",
          "data": {
            "text/plain": [
              "array([[0., 1.]])"
            ]
          },
          "metadata": {},
          "execution_count": 14
        }
      ]
    },
    {
      "cell_type": "code",
      "source": [
        "test_input_embarked = ohe_embarked.transform(test_input[:,-1].reshape(1,1))"
      ],
      "metadata": {
        "id": "sF11K19JeIrR"
      },
      "execution_count": 15,
      "outputs": []
    },
    {
      "cell_type": "code",
      "source": [
        "test_input_embarked"
      ],
      "metadata": {
        "colab": {
          "base_uri": "https://localhost:8080/"
        },
        "id": "x0WuyH6GeMwh",
        "outputId": "c0567eb9-e9d6-491b-d687-50ae27f8a7bc"
      },
      "execution_count": 16,
      "outputs": [
        {
          "output_type": "execute_result",
          "data": {
            "text/plain": [
              "array([[0., 0., 1.]])"
            ]
          },
          "metadata": {},
          "execution_count": 16
        }
      ]
    },
    {
      "cell_type": "code",
      "source": [
        "test_input_age = test_input[:,2].reshape(1,1)"
      ],
      "metadata": {
        "id": "PAJP-ZwbeQiZ"
      },
      "execution_count": 17,
      "outputs": []
    },
    {
      "cell_type": "code",
      "source": [
        "test_input_transformed = np.concatenate((test_input[:,[0,3,4,5]],test_input_age,test_input_sex,test_input_embarked),axis=1)"
      ],
      "metadata": {
        "id": "kbf-0hmceUYB"
      },
      "execution_count": 18,
      "outputs": []
    },
    {
      "cell_type": "code",
      "source": [
        "test_input_transformed.shape"
      ],
      "metadata": {
        "colab": {
          "base_uri": "https://localhost:8080/"
        },
        "id": "OLCy6Cy1eX26",
        "outputId": "a7f477f5-3aad-4c21-9ae3-8f30dfee2f4a"
      },
      "execution_count": 19,
      "outputs": [
        {
          "output_type": "execute_result",
          "data": {
            "text/plain": [
              "(1, 10)"
            ]
          },
          "metadata": {},
          "execution_count": 19
        }
      ]
    },
    {
      "cell_type": "code",
      "source": [
        "clf.predict(test_input_transformed)"
      ],
      "metadata": {
        "colab": {
          "base_uri": "https://localhost:8080/"
        },
        "id": "zZ4sLHWyebIC",
        "outputId": "001d987b-5584-4362-b44d-f0d48f4e9d80"
      },
      "execution_count": 20,
      "outputs": [
        {
          "output_type": "execute_result",
          "data": {
            "text/plain": [
              "array([1])"
            ]
          },
          "metadata": {},
          "execution_count": 20
        }
      ]
    }
  ]
}