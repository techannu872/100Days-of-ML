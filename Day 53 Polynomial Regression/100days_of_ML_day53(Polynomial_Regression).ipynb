{
  "nbformat": 4,
  "nbformat_minor": 0,
  "metadata": {
    "colab": {
      "provenance": []
    },
    "kernelspec": {
      "name": "python3",
      "display_name": "Python 3"
    },
    "language_info": {
      "name": "python"
    }
  },
  "cells": [
    {
      "cell_type": "markdown",
      "source": [
        "## **Applying the Concept of Polynomial Regression!**"
      ],
      "metadata": {
        "id": "y8JCFORkRbBA"
      }
    },
    {
      "cell_type": "code",
      "execution_count": 1,
      "metadata": {
        "id": "sTTnCelsRXmI"
      },
      "outputs": [],
      "source": [
        "import numpy as np\n",
        "import matplotlib.pyplot as plt\n",
        "\n",
        "from sklearn.model_selection import train_test_split\n",
        "\n",
        "from sklearn.linear_model import LinearRegression,SGDRegressor\n",
        "\n",
        "from sklearn.preprocessing import PolynomialFeatures,StandardScaler\n",
        "\n",
        "from sklearn.metrics import r2_score\n",
        "\n",
        "from sklearn.pipeline import Pipeline"
      ]
    },
    {
      "cell_type": "code",
      "source": [
        "X = 6 * np.random.rand(200, 1) - 3\n",
        "y = 0.8 * X**2 + 0.9 * X + 2 + np.random.randn(200, 1)\n",
        "\n",
        "# y = 0.8x^2 + 0.9x + 2"
      ],
      "metadata": {
        "id": "WowkBgpLR5B7"
      },
      "execution_count": 2,
      "outputs": []
    },
    {
      "cell_type": "code",
      "source": [
        "plt.plot(X, y,'b.')\n",
        "plt.xlabel(\"X\")\n",
        "plt.ylabel(\"y\")\n",
        "plt.show()"
      ],
      "metadata": {
        "colab": {
          "base_uri": "https://localhost:8080/",
          "height": 449
        },
        "id": "_bLwfnh3R7pi",
        "outputId": "edc26cba-543a-49c0-8621-73da99c5fc56"
      },
      "execution_count": 3,
      "outputs": [
        {
          "output_type": "display_data",
          "data": {
            "text/plain": [
              "<Figure size 640x480 with 1 Axes>"
            ],
            "image/png": "[encoded data removed]"
          },
          "metadata": {}
        }
      ]
    },
    {
      "cell_type": "code",
      "source": [
        "# Train test split\n",
        "X_train,X_test,y_train,y_test = train_test_split(X,y,test_size=0.2,random_state=2)"
      ],
      "metadata": {
        "id": "nOopOasyR_mK"
      },
      "execution_count": 4,
      "outputs": []
    },
    {
      "cell_type": "markdown",
      "source": [
        "### **Applying Linear Regression**"
      ],
      "metadata": {
        "id": "NwEV-G-DSAwk"
      }
    },
    {
      "cell_type": "code",
      "source": [
        "lr = LinearRegression()"
      ],
      "metadata": {
        "id": "xe_8sPNgSF3K"
      },
      "execution_count": 5,
      "outputs": []
    },
    {
      "cell_type": "code",
      "source": [
        "lr.fit(X_train,y_train)"
      ],
      "metadata": {
        "colab": {
          "base_uri": "https://localhost:8080/",
          "height": 75
        },
        "id": "XfANEhNhSJVh",
        "outputId": "de839b59-1160-4864-fa74-3f887cc52b67"
      },
      "execution_count": 6,
      "outputs": [
        {
          "output_type": "execute_result",
          "data": {
            "text/plain": [
              "LinearRegression()"
            ],
            "text/html": [
              "<style>#sk-container-id-1 {color: black;background-color: white;}#sk-container-id-1 pre{padding: 0;}#sk-container-id-1 div.sk-toggleable {background-color: white;}#sk-container-id-1 label.sk-toggleable__label {cursor: pointer;display: block;width: 100%;margin-bottom: 0;padding: 0.3em;box-sizing: border-box;text-align: center;}#sk-container-id-1 label.sk-toggleable__label-arrow:before {content: \"▸\";float: left;margin-right: 0.25em;color: #696969;}#sk-container-id-1 label.sk-toggleable__label-arrow:hover:before {color: black;}#sk-container-id-1 div.sk-estimator:hover label.sk-toggleable__label-arrow:before {color: black;}#sk-container-id-1 div.sk-toggleable__content {max-height: 0;max-width: 0;overflow: hidden;text-align: left;background-color: #f0f8ff;}#sk-container-id-1 div.sk-toggleable__content pre {margin: 0.2em;color: black;border-radius: 0.25em;background-color: #f0f8ff;}#sk-container-id-1 input.sk-toggleable__control:checked~div.sk-toggleable__content {max-height: 200px;max-width: 100%;overflow: auto;}#sk-container-id-1 input.sk-toggleable__control:checked~label.sk-toggleable__label-arrow:before {content: \"▾\";}#sk-container-id-1 div.sk-estimator input.sk-toggleable__control:checked~label.sk-toggleable__label {background-color: #d4ebff;}#sk-container-id-1 div.sk-label input.sk-toggleable__control:checked~label.sk-toggleable__label {background-color: #d4ebff;}#sk-container-id-1 input.sk-hidden--visually {border: 0;clip: rect(1px 1px 1px 1px);clip: rect(1px, 1px, 1px, 1px);height: 1px;margin: -1px;overflow: hidden;padding: 0;position: absolute;width: 1px;}#sk-container-id-1 div.sk-estimator {font-family: monospace;background-color: #f0f8ff;border: 1px dotted black;border-radius: 0.25em;box-sizing: border-box;margin-bottom: 0.5em;}#sk-container-id-1 div.sk-estimator:hover {background-color: #d4ebff;}#sk-container-id-1 div.sk-parallel-item::after {content: \"\";width: 100%;border-bottom: 1px solid gray;flex-grow: 1;}#sk-container-id-1 div.sk-label:hover label.sk-toggleable__label {background-color: #d4ebff;}#sk-container-id-1 div.sk-serial::before {content: \"\";position: absolute;border-left: 1px solid gray;box-sizing: border-box;top: 0;bottom: 0;left: 50%;z-index: 0;}#sk-container-id-1 div.sk-serial {display: flex;flex-direction: column;align-items: center;background-color: white;padding-right: 0.2em;padding-left: 0.2em;position: relative;}#sk-container-id-1 div.sk-item {position: relative;z-index: 1;}#sk-container-id-1 div.sk-parallel {display: flex;align-items: stretch;justify-content: center;background-color: white;position: relative;}#sk-container-id-1 div.sk-item::before, #sk-container-id-1 div.sk-parallel-item::before {content: \"\";position: absolute;border-left: 1px solid gray;box-sizing: border-box;top: 0;bottom: 0;left: 50%;z-index: -1;}#sk-container-id-1 div.sk-parallel-item {display: flex;flex-direction: column;z-index: 1;position: relative;background-color: white;}#sk-container-id-1 div.sk-parallel-item:first-child::after {align-self: flex-end;width: 50%;}#sk-container-id-1 div.sk-parallel-item:last-child::after {align-self: flex-start;width: 50%;}#sk-container-id-1 div.sk-parallel-item:only-child::after {width: 0;}#sk-container-id-1 div.sk-dashed-wrapped {border: 1px dashed gray;margin: 0 0.4em 0.5em 0.4em;box-sizing: border-box;padding-bottom: 0.4em;background-color: white;}#sk-container-id-1 div.sk-label label {font-family: monospace;font-weight: bold;display: inline-block;line-height: 1.2em;}#sk-container-id-1 div.sk-label-container {text-align: center;}#sk-container-id-1 div.sk-container {/* jupyter's `normalize.less` sets `[hidden] { display: none; }` but bootstrap.min.css set `[hidden] { display: none !important; }` so we also need the `!important` here to be able to override the default hidden behavior on the sphinx rendered scikit-learn.org. See: https://github.com/scikit-learn/scikit-learn/issues/21755 */display: inline-block !important;position: relative;}#sk-container-id-1 div.sk-text-repr-fallback {display: none;}</style><div id=\"sk-container-id-1\" class=\"sk-top-container\"><div class=\"sk-text-repr-fallback\"><pre>LinearRegression()</pre><b>In a Jupyter environment, please rerun this cell to show the HTML representation or trust the notebook. <br />On GitHub, the HTML representation is unable to render, please try loading this page with nbviewer.org.</b></div><div class=\"sk-container\" hidden><div class=\"sk-item\"><div class=\"sk-estimator sk-toggleable\"><input class=\"sk-toggleable__control sk-hidden--visually\" id=\"sk-estimator-id-1\" type=\"checkbox\" checked><label for=\"sk-estimator-id-1\" class=\"sk-toggleable__label sk-toggleable__label-arrow\">LinearRegression</label><div class=\"sk-toggleable__content\"><pre>LinearRegression()</pre></div></div></div></div></div>"
            ]
          },
          "metadata": {},
          "execution_count": 6
        }
      ]
    },
    {
      "cell_type": "code",
      "source": [
        "y_pred = lr.predict(X_test)\n",
        "r2_score(y_test,y_pred)"
      ],
      "metadata": {
        "colab": {
          "base_uri": "https://localhost:8080/"
        },
        "id": "YZ4fcbPESLkl",
        "outputId": "58f5c98a-23ae-487c-80e8-5ae727ce24f2"
      },
      "execution_count": 7,
      "outputs": [
        {
          "output_type": "execute_result",
          "data": {
            "text/plain": [
              "0.1708298386681355"
            ]
          },
          "metadata": {},
          "execution_count": 7
        }
      ]
    },
    {
      "cell_type": "code",
      "source": [
        "plt.plot(X_train,lr.predict(X_train),color='r')\n",
        "plt.plot(X, y, \"b.\")\n",
        "plt.xlabel(\"X\")\n",
        "plt.ylabel(\"y\")\n",
        "plt.show()"
      ],
      "metadata": {
        "colab": {
          "base_uri": "https://localhost:8080/",
          "height": 449
        },
        "id": "T4qrvt5NSN0i",
        "outputId": "931b2e19-74e4-446b-b823-ec8b8df8fd70"
      },
      "execution_count": 8,
      "outputs": [
        {
          "output_type": "display_data",
          "data": {
            "text/plain": [
              "<Figure size 640x480 with 1 Axes>"
            ],
            "image/png": "[encoded data removed]"
          },
          "metadata": {}
        }
      ]
    },
    {
      "cell_type": "markdown",
      "source": [
        "### **Applying Polynomial Regression for Degree=2**"
      ],
      "metadata": {
        "id": "yusk4JWuSQs6"
      }
    },
    {
      "cell_type": "code",
      "source": [
        "# Applying Polynomial Linear Regression\n",
        "# degree 2\n",
        "poly = PolynomialFeatures(degree=2,include_bias=True)\n",
        "\n",
        "X_train_trans = poly.fit_transform(X_train)\n",
        "X_test_trans = poly.transform(X_test)"
      ],
      "metadata": {
        "id": "pj1gJhULSWxr"
      },
      "execution_count": 9,
      "outputs": []
    },
    {
      "cell_type": "code",
      "source": [
        "print(X_train[0])\n",
        "print(X_train_trans[0])"
      ],
      "metadata": {
        "colab": {
          "base_uri": "https://localhost:8080/"
        },
        "id": "p6Wc6TbpSbqq",
        "outputId": "d7037072-c649-40eb-af94-4fcca76cc35b"
      },
      "execution_count": 10,
      "outputs": [
        {
          "output_type": "stream",
          "name": "stdout",
          "text": [
            "[-1.12042413]\n",
            "[ 1.         -1.12042413  1.25535024]\n"
          ]
        }
      ]
    },
    {
      "cell_type": "code",
      "source": [
        "lr = LinearRegression()\n",
        "lr.fit(X_train_trans,y_train)"
      ],
      "metadata": {
        "colab": {
          "base_uri": "https://localhost:8080/",
          "height": 75
        },
        "id": "G2rBgOmjSgbj",
        "outputId": "5f2c3cae-5c38-41a9-9397-dba7c4de670b"
      },
      "execution_count": 11,
      "outputs": [
        {
          "output_type": "execute_result",
          "data": {
            "text/plain": [
              "LinearRegression()"
            ],
            "text/html": [
              "<style>#sk-container-id-2 {color: black;background-color: white;}#sk-container-id-2 pre{padding: 0;}#sk-container-id-2 div.sk-toggleable {background-color: white;}#sk-container-id-2 label.sk-toggleable__label {cursor: pointer;display: block;width: 100%;margin-bottom: 0;padding: 0.3em;box-sizing: border-box;text-align: center;}#sk-container-id-2 label.sk-toggleable__label-arrow:before {content: \"▸\";float: left;margin-right: 0.25em;color: #696969;}#sk-container-id-2 label.sk-toggleable__label-arrow:hover:before {color: black;}#sk-container-id-2 div.sk-estimator:hover label.sk-toggleable__label-arrow:before {color: black;}#sk-container-id-2 div.sk-toggleable__content {max-height: 0;max-width: 0;overflow: hidden;text-align: left;background-color: #f0f8ff;}#sk-container-id-2 div.sk-toggleable__content pre {margin: 0.2em;color: black;border-radius: 0.25em;background-color: #f0f8ff;}#sk-container-id-2 input.sk-toggleable__control:checked~div.sk-toggleable__content {max-height: 200px;max-width: 100%;overflow: auto;}#sk-container-id-2 input.sk-toggleable__control:checked~label.sk-toggleable__label-arrow:before {content: \"▾\";}#sk-container-id-2 div.sk-estimator input.sk-toggleable__control:checked~label.sk-toggleable__label {background-color: #d4ebff;}#sk-container-id-2 div.sk-label input.sk-toggleable__control:checked~label.sk-toggleable__label {background-color: #d4ebff;}#sk-container-id-2 input.sk-hidden--visually {border: 0;clip: rect(1px 1px 1px 1px);clip: rect(1px, 1px, 1px, 1px);height: 1px;margin: -1px;overflow: hidden;padding: 0;position: absolute;width: 1px;}#sk-container-id-2 div.sk-estimator {font-family: monospace;background-color: #f0f8ff;border: 1px dotted black;border-radius: 0.25em;box-sizing: border-box;margin-bottom: 0.5em;}#sk-container-id-2 div.sk-estimator:hover {background-color: #d4ebff;}#sk-container-id-2 div.sk-parallel-item::after {content: \"\";width: 100%;border-bottom: 1px solid gray;flex-grow: 1;}#sk-container-id-2 div.sk-label:hover label.sk-toggleable__label {background-color: #d4ebff;}#sk-container-id-2 div.sk-serial::before {content: \"\";position: absolute;border-left: 1px solid gray;box-sizing: border-box;top: 0;bottom: 0;left: 50%;z-index: 0;}#sk-container-id-2 div.sk-serial {display: flex;flex-direction: column;align-items: center;background-color: white;padding-right: 0.2em;padding-left: 0.2em;position: relative;}#sk-container-id-2 div.sk-item {position: relative;z-index: 1;}#sk-container-id-2 div.sk-parallel {display: flex;align-items: stretch;justify-content: center;background-color: white;position: relative;}#sk-container-id-2 div.sk-item::before, #sk-container-id-2 div.sk-parallel-item::before {content: \"\";position: absolute;border-left: 1px solid gray;box-sizing: border-box;top: 0;bottom: 0;left: 50%;z-index: -1;}#sk-container-id-2 div.sk-parallel-item {display: flex;flex-direction: column;z-index: 1;position: relative;background-color: white;}#sk-container-id-2 div.sk-parallel-item:first-child::after {align-self: flex-end;width: 50%;}#sk-container-id-2 div.sk-parallel-item:last-child::after {align-self: flex-start;width: 50%;}#sk-container-id-2 div.sk-parallel-item:only-child::after {width: 0;}#sk-container-id-2 div.sk-dashed-wrapped {border: 1px dashed gray;margin: 0 0.4em 0.5em 0.4em;box-sizing: border-box;padding-bottom: 0.4em;background-color: white;}#sk-container-id-2 div.sk-label label {font-family: monospace;font-weight: bold;display: inline-block;line-height: 1.2em;}#sk-container-id-2 div.sk-label-container {text-align: center;}#sk-container-id-2 div.sk-container {/* jupyter's `normalize.less` sets `[hidden] { display: none; }` but bootstrap.min.css set `[hidden] { display: none !important; }` so we also need the `!important` here to be able to override the default hidden behavior on the sphinx rendered scikit-learn.org. See: https://github.com/scikit-learn/scikit-learn/issues/21755 */display: inline-block !important;position: relative;}#sk-container-id-2 div.sk-text-repr-fallback {display: none;}</style><div id=\"sk-container-id-2\" class=\"sk-top-container\"><div class=\"sk-text-repr-fallback\"><pre>LinearRegression()</pre><b>In a Jupyter environment, please rerun this cell to show the HTML representation or trust the notebook. <br />On GitHub, the HTML representation is unable to render, please try loading this page with nbviewer.org.</b></div><div class=\"sk-container\" hidden><div class=\"sk-item\"><div class=\"sk-estimator sk-toggleable\"><input class=\"sk-toggleable__control sk-hidden--visually\" id=\"sk-estimator-id-2\" type=\"checkbox\" checked><label for=\"sk-estimator-id-2\" class=\"sk-toggleable__label sk-toggleable__label-arrow\">LinearRegression</label><div class=\"sk-toggleable__content\"><pre>LinearRegression()</pre></div></div></div></div></div>"
            ]
          },
          "metadata": {},
          "execution_count": 11
        }
      ]
    },
    {
      "cell_type": "code",
      "source": [
        "y_pred = lr.predict(X_test_trans)"
      ],
      "metadata": {
        "id": "uwF-XMJ0SjyK"
      },
      "execution_count": 12,
      "outputs": []
    },
    {
      "cell_type": "code",
      "source": [
        "r2_score(y_test,y_pred)"
      ],
      "metadata": {
        "colab": {
          "base_uri": "https://localhost:8080/"
        },
        "id": "IOowwCatSl_M",
        "outputId": "4e095bc0-78b2-453b-9c94-343d1bcb63eb"
      },
      "execution_count": 13,
      "outputs": [
        {
          "output_type": "execute_result",
          "data": {
            "text/plain": [
              "0.8886941900251177"
            ]
          },
          "metadata": {},
          "execution_count": 13
        }
      ]
    },
    {
      "cell_type": "code",
      "source": [
        "print(lr.coef_)\n",
        "print(lr.intercept_)"
      ],
      "metadata": {
        "colab": {
          "base_uri": "https://localhost:8080/"
        },
        "id": "G50JPR5fSnoj",
        "outputId": "f6b66cf7-b737-4191-8a44-74a8e17318d7"
      },
      "execution_count": 14,
      "outputs": [
        {
          "output_type": "stream",
          "name": "stdout",
          "text": [
            "[[0.         0.92809941 0.83250049]]\n",
            "[1.80028706]\n"
          ]
        }
      ]
    },
    {
      "cell_type": "code",
      "source": [
        "X_new=np.linspace(-3, 3, 200).reshape(200, 1)\n",
        "X_new_poly = poly.transform(X_new)\n",
        "y_new = lr.predict(X_new_poly)"
      ],
      "metadata": {
        "id": "Miq19o1gSrQT"
      },
      "execution_count": 15,
      "outputs": []
    },
    {
      "cell_type": "code",
      "source": [
        "plt.plot(X_new, y_new, \"r-\", linewidth=2, label=\"Predictions\")\n",
        "plt.plot(X_train, y_train, \"b.\",label='Training points')\n",
        "plt.plot(X_test, y_test, \"g.\",label='Testing points')\n",
        "plt.xlabel(\"X\")\n",
        "plt.ylabel(\"y\")\n",
        "plt.legend()\n",
        "plt.show()"
      ],
      "metadata": {
        "colab": {
          "base_uri": "https://localhost:8080/",
          "height": 449
        },
        "id": "wv2khuGOSuBs",
        "outputId": "f109313f-bf67-4e4a-cd73-e1ef30795933"
      },
      "execution_count": 16,
      "outputs": [
        {
          "output_type": "display_data",
          "data": {
            "text/plain": [
              "<Figure size 640x480 with 1 Axes>"
            ],
            "image/png": "[encoded data removed]"
          },
          "metadata": {}
        }
      ]
    },
    {
      "cell_type": "markdown",
      "source": [
        "### **Creating a class to automize the degree and view the insights!**"
      ],
      "metadata": {
        "id": "wsM7jwTBS2tL"
      }
    },
    {
      "cell_type": "code",
      "source": [
        "def polynomial_regression(degree):\n",
        "    X_new=np.linspace(-3, 3, 100).reshape(100, 1)\n",
        "    X_new_poly = poly.transform(X_new)\n",
        "\n",
        "    polybig_features = PolynomialFeatures(degree=degree, include_bias=False)\n",
        "    std_scaler = StandardScaler()\n",
        "    lin_reg = LinearRegression()\n",
        "    polynomial_regression = Pipeline([\n",
        "            (\"poly_features\", polybig_features),\n",
        "            (\"std_scaler\", std_scaler),\n",
        "            (\"lin_reg\", lin_reg),\n",
        "        ])\n",
        "    polynomial_regression.fit(X, y)\n",
        "    y_newbig = polynomial_regression.predict(X_new)\n",
        "    plt.plot(X_new, y_newbig,'r', label=\"Degree \" + str(degree), linewidth=2)\n",
        "\n",
        "    plt.plot(X_train, y_train, \"b.\", linewidth=3)\n",
        "    plt.plot(X_test, y_test, \"g.\", linewidth=3)\n",
        "    plt.legend(loc=\"upper left\")\n",
        "    plt.xlabel(\"X\")\n",
        "    plt.ylabel(\"y\")\n",
        "    plt.axis([-3, 3, 0, 10])\n",
        "    plt.show()"
      ],
      "metadata": {
        "id": "FsX79rI2S9jM"
      },
      "execution_count": 17,
      "outputs": []
    },
    {
      "cell_type": "code",
      "source": [
        "polynomial_regression(350)\n"
      ],
      "metadata": {
        "colab": {
          "base_uri": "https://localhost:8080/",
          "height": 529
        },
        "id": "4a_nmMwrTKHE",
        "outputId": "e5eb76f4-2188-4821-f7e5-09fe8a15a2ca"
      },
      "execution_count": 18,
      "outputs": [
        {
          "output_type": "stream",
          "name": "stderr",
          "text": [
            "/usr/local/lib/python3.10/dist-packages/sklearn/utils/extmath.py:1066: RuntimeWarning: overflow encountered in square\n",
            "  temp **= 2\n",
            "/usr/local/lib/python3.10/dist-packages/numpy/core/fromnumeric.py:88: RuntimeWarning: overflow encountered in reduce\n",
            "  return ufunc.reduce(obj, axis, dtype, out, **passkwargs)\n"
          ]
        },
        {
          "output_type": "display_data",
          "data": {
            "text/plain": [
              "<Figure size 640x480 with 1 Axes>"
            ],
            "image/png": "[encoded data removed]"
          },
          "metadata": {}
        }
      ]
    },
    {
      "cell_type": "code",
      "source": [
        "poly.powers_"
      ],
      "metadata": {
        "colab": {
          "base_uri": "https://localhost:8080/"
        },
        "id": "DNrtzj_hTMYs",
        "outputId": "c28a8d28-46df-4d51-c69a-116e52005680"
      },
      "execution_count": 19,
      "outputs": [
        {
          "output_type": "execute_result",
          "data": {
            "text/plain": [
              "array([[0],\n",
              "       [1],\n",
              "       [2]])"
            ]
          },
          "metadata": {},
          "execution_count": 19
        }
      ]
    },
    {
      "cell_type": "code",
      "source": [
        "# Applying Gradient Descent\n",
        "\n",
        "poly = PolynomialFeatures(degree=2)\n",
        "\n",
        "X_train_trans = poly.fit_transform(X_train)\n",
        "X_test_trans = poly.transform(X_test)\n",
        "\n",
        "sgd = SGDRegressor(max_iter=100)\n",
        "sgd.fit(X_train_trans,y_train)\n",
        "\n",
        "X_new=np.linspace(-2.9, 2.8, 200).reshape(200, 1)\n",
        "X_new_poly = poly.transform(X_new)\n",
        "y_new = sgd.predict(X_new_poly)\n",
        "\n",
        "y_pred = sgd.predict(X_test_trans)\n",
        "\n",
        "plt.plot(X_new, y_new, \"r-\", linewidth=2, label=\"Predictions \" + str(round(r2_score(y_test,y_pred),2)))\n",
        "plt.plot(X_train, y_train, \"b.\",label='Training points')\n",
        "plt.plot(X_test, y_test, \"g.\",label='Testing points')\n",
        "plt.xlabel(\"X\")\n",
        "plt.ylabel(\"y\")\n",
        "plt.legend()\n",
        "plt.show()"
      ],
      "metadata": {
        "colab": {
          "base_uri": "https://localhost:8080/",
          "height": 506
        },
        "id": "-7hWklYpTOzQ",
        "outputId": "b42f8e1c-a4e6-4018-d9f9-a5739115efe9"
      },
      "execution_count": 20,
      "outputs": [
        {
          "output_type": "stream",
          "name": "stderr",
          "text": [
            "/usr/local/lib/python3.10/dist-packages/sklearn/utils/validation.py:1143: DataConversionWarning: A column-vector y was passed when a 1d array was expected. Please change the shape of y to (n_samples, ), for example using ravel().\n",
            "  y = column_or_1d(y, warn=True)\n"
          ]
        },
        {
          "output_type": "display_data",
          "data": {
            "text/plain": [
              "<Figure size 640x480 with 1 Axes>"
            ],
            "image/png": "[encoded data removed]"
          },
          "metadata": {}
        }
      ]
    },
    {
      "cell_type": "code",
      "source": [
        "# 3D polynomial regression\n",
        "x = 7 * np.random.rand(100, 1) - 2.8\n",
        "y = 7 * np.random.rand(100, 1) - 2.8\n",
        "\n",
        "z = x**2 + y**2 + 0.2*x + 0.2*y + 0.1*x*y +2 + np.random.randn(100, 1)\n",
        "# z = x^2 + y^2 + 0.2x + 0.2y + 0.1xy + 2\n"
      ],
      "metadata": {
        "id": "pOm2d-dZTVWe"
      },
      "execution_count": 21,
      "outputs": []
    },
    {
      "cell_type": "code",
      "source": [
        "import plotly.express as px\n",
        "df = px.data.iris()\n",
        "fig = px.scatter_3d(df, x=x.ravel(), y=y.ravel(), z=z.ravel())\n",
        "fig.show()"
      ],
      "metadata": {
        "colab": {
          "base_uri": "https://localhost:8080/",
          "height": 542
        },
        "id": "gQQ4EOGQTYt8",
        "outputId": "65d2db58-b625-4481-d1ea-afd3e38a9209"
      },
      "execution_count": 22,
      "outputs": [
        {
          "output_type": "display_data",
          "data": {
            "text/html": [
              "<html>\n",
              "<head><meta charset=\"utf-8\" /></head>\n",
              "<body>\n",
              "    <div>            <script src=\"https://cdnjs.cloudflare.com/ajax/libs/mathjax/2.7.5/MathJax.js?config=TeX-AMS-MML_SVG\"></script><script type=\"text/javascript\">if (window.MathJax && window.MathJax.Hub && window.MathJax.Hub.Config) {window.MathJax.Hub.Config({SVG: {font: \"STIX-Web\"}});}</script>                <script type=\"text/javascript\">window.PlotlyConfig = {MathJaxConfig: 'local'};</script>\n",
              "        <script charset=\"utf-8\" src=\"https://cdn.plot.ly/plotly-2.24.1.min.js\"></script>                <div id=\"abfeff60-9b76-48e2-987a-9b3ea5437e08\" class=\"plotly-graph-div\" style=\"height:525px; width:100%;\"></div>            <script type=\"text/javascript\">                                    window.PLOTLYENV=window.PLOTLYENV || {};                                    if (document.getElementById(\"abfeff60-9b76-48e2-987a-9b3ea5437e08\")) {                    Plotly.newPlot(                        \"abfeff60-9b76-48e2-987a-9b3ea5437e08\",                        [{\"hovertemplate\":\"x=%{x}\\u003cbr\\u003ey=%{y}\\u003cbr\\u003ez=%{z}\\u003cextra\\u003e\\u003c\\u002fextra\\u003e\",\"legendgroup\":\"\",\"marker\":{\"color\":\"#636efa\",\"symbol\":\"circle\"},\"mode\":\"markers\",\"name\":\"\",\"scene\":\"scene\",\"showlegend\":false,\"x\":[-0.5788625766091942,3.317007543176074,-2.7572481941940206,-2.306501058933976,3.650328235170102,1.8709688400232949,0.03156981367132783,2.639318693200658,-0.5691242505375893,-2.111278305203269,-2.7822415959037947,-0.9529008821152896,3.3947229607121834,1.4837649996667022,-1.3365398419538876,1.1546045193998937,-2.014332981713305,-2.4233197145343968,2.0083233486346987,-0.0395356866363894,0.7762351271437327,-2.1397077223604146,3.4320402171671596,-2.4827716827606388,1.224338658885114,-0.6275314711887656,2.0795125697628247,-2.3148843671820885,-0.3784323454174623,3.04953834522727,1.1485440930617385,4.087810564609628,-2.321869298197967,0.13505850130257624,1.1328515674066004,-2.2892964201471355,1.786002644450999,-0.5691417568736048,-2.5264347484030196,-1.2723511895650834,-0.9739168801250697,2.4301233104848174,-0.07005653855034444,3.57212308563681,2.781006659750269,1.9939047436094013,0.4450300506600051,2.32598865157905,2.67601820218841,0.7807795201023673,-1.6313515193880335,3.879747957401478,-0.9409756516429413,-2.4564877683269373,-0.4926821274227762,-2.733962526053096,-0.7922031444224382,3.7732152195424744,0.9708466462851537,1.7578018852417232,2.8496677879864007,-0.2692854157675857,3.6867601407824138,-0.11921146394857374,-2.481444586744929,2.0009847477391878,1.2786209012426193,-1.45908608953114,0.45900181737517043,0.32803111249449124,2.4755796611498155,0.2691924569999884,-0.18401147814496444,2.0801452218549077,1.7944447348863104,-0.1294674498572035,0.14346848693145287,-2.1951522111281108,-2.601966724253006,-0.3793685653073049,0.8629979215621191,-1.7341367674078034,1.814632221926444,2.2667368851327163,1.4283974031648201,0.8682869554293084,-0.12110036611931108,2.694039902609032,4.149795122240948,-0.5478766305803355,-1.9307148436610435,-2.65042417007147,-1.9841708775357407,-2.552112314089202,1.9331806116376118,0.7138497878358288,-0.9972685242646131,-1.734755682980328,-2.2433827609744434,0.8078524654464316],\"y\":[1.0470788238935151,3.4399739479472125,2.308522724375303,2.885480521124352,-2.41253197537898,-0.9556142068479194,-2.2032153859093855,-1.7956807629485005,-0.3427362137977683,-0.48608177738974234,1.0423404075590712,-2.3197351953628385,-0.6549872351095485,3.1448523032105724,1.8916443671479417,0.6106663685531024,4.120939943489926,1.2083446323720954,3.7943525620154963,3.9744158742419513,4.17556844876056,-2.104303268422773,3.7531261756456225,-1.2545712289044915,-0.527420117604879,2.2308645751732117,1.8216840927405729,3.095867770834384,1.3240443692965522,1.3536135542835845,-2.7644940773673747,1.266429640261931,-0.32416553732887365,0.968597487573323,-2.172172680190542,2.271380025928879,4.0576463351436205,-0.6233032504988678,1.8637208111558863,3.2060615323558554,3.547671073536365,-1.3290799466069845,2.0157622823427985,3.110802955338807,3.144006392784102,-1.7875581231638429,4.0910836023234385,3.9073416544901356,2.315163125382922,-0.6660431736569037,1.0645245241667594,1.5445708680832562,-2.7086635146013167,2.864511833635663,-1.7191404878762544,3.2782964867136597,3.965122883556238,-2.249171242144605,0.8759832760385233,2.0537813381436445,-0.8020377517828936,2.688685553888032,-0.4071449291048608,-1.5543834064382664,3.7400659667082907,0.22586605132046778,-0.33428402241478183,1.9843809352436832,-0.263749078349623,-2.205396797815624,3.110436372382689,2.7773611969979166,-2.281612321967761,1.5058343961880425,-1.0967460388357924,1.286093755798813,4.186346802840465,0.053881622288609154,3.8810441450631323,-0.2829917419147634,2.178366743165194,-1.3803445962584204,-1.957759938622131,2.4546027573980593,3.4470259183829537,-0.12344090843953603,3.310857967709355,0.7332430852679499,0.478586378569573,0.3550734354052625,-2.14779855132882,1.1134516334776667,-1.1718001647263847,3.951186815228273,-0.19127809044621458,-2.5736130429509925,2.160908235845837,2.3006405800470215,-0.7688319227542637,-1.9339032254727029],\"z\":[4.108468640984792,25.82087240437619,13.776441515732678,14.300350820469937,19.441247571846905,5.7874857743414525,6.83388660523527,9.575388076819534,1.2679335922194126,5.703468482365537,9.428917927470616,9.035484820744918,14.64905359553102,14.76558720475029,7.945183193324098,3.728807666894923,23.339636972278736,9.684352678345935,21.27877664642663,17.94688814384202,22.108895671670638,9.944556588912654,29.14927974959328,8.143194757875323,3.457581418903999,8.504937279549665,10.84478003961742,16.500297328920325,2.698507112709152,15.294522377905619,10.553898759333393,22.28973077912484,6.9362062526632355,4.292612662172684,7.554992483581386,11.837584598953635,25.085343931572506,2.858944494629619,9.988972835099688,16.452797948602527,15.519810962286995,9.683154020773786,7.052969990135712,25.46744720298603,21.753015217244272,9.259585446612377,19.740913923785808,23.760299565071914,14.965055172143085,2.908220622108907,7.396845627468872,21.920792272411155,9.595712948082442,12.875558748987343,5.630141489091487,21.261935009160084,18.588666330624033,22.821472727819806,4.638295174747237,10.182912793307581,10.822233075684172,8.144203334776261,17.087957308768704,3.3469070637300176,19.473294077563743,4.792532496130978,2.6211971646266212,7.876604263700773,1.5822802014399784,5.99214373948074,19.72227810883597,10.698439233505738,6.642103185984909,9.602189965955242,6.013232557852773,4.693858280934482,20.236422966600582,7.028250643350705,24.463339552630185,3.7487045699934294,8.784026443849973,7.286581379399039,6.584870713851627,14.495176695224187,16.844639469544386,2.435731309483333,13.212364145697029,11.34409745217966,19.07312731998859,1.8239338630403406,10.930584943817646,8.296365657767579,5.48013059518021,22.58771841929269,6.674720008170399,9.393294843224895,7.719809302546228,11.01974240174067,6.564602543690109,5.304774920638324],\"type\":\"scatter3d\"}],                        {\"template\":{\"data\":{\"histogram2dcontour\":[{\"type\":\"histogram2dcontour\",\"colorbar\":{\"outlinewidth\":0,\"ticks\":\"\"},\"colorscale\":[[0.0,\"#0d0887\"],[0.1111111111111111,\"#46039f\"],[0.2222222222222222,\"#7201a8\"],[0.3333333333333333,\"#9c179e\"],[0.4444444444444444,\"#bd3786\"],[0.5555555555555556,\"#d8576b\"],[0.6666666666666666,\"#ed7953\"],[0.7777777777777778,\"#fb9f3a\"],[0.8888888888888888,\"#fdca26\"],[1.0,\"#f0f921\"]]}],\"choropleth\":[{\"type\":\"choropleth\",\"colorbar\":{\"outlinewidth\":0,\"ticks\":\"\"}}],\"histogram2d\":[{\"type\":\"histogram2d\",\"colorbar\":{\"outlinewidth\":0,\"ticks\":\"\"},\"colorscale\":[[0.0,\"#0d0887\"],[0.1111111111111111,\"#46039f\"],[0.2222222222222222,\"#7201a8\"],[0.3333333333333333,\"#9c179e\"],[0.4444444444444444,\"#bd3786\"],[0.5555555555555556,\"#d8576b\"],[0.6666666666666666,\"#ed7953\"],[0.7777777777777778,\"#fb9f3a\"],[0.8888888888888888,\"#fdca26\"],[1.0,\"#f0f921\"]]}],\"heatmap\":[{\"type\":\"heatmap\",\"colorbar\":{\"outlinewidth\":0,\"ticks\":\"\"},\"colorscale\":[[0.0,\"#0d0887\"],[0.1111111111111111,\"#46039f\"],[0.2222222222222222,\"#7201a8\"],[0.3333333333333333,\"#9c179e\"],[0.4444444444444444,\"#bd3786\"],[0.5555555555555556,\"#d8576b\"],[0.6666666666666666,\"#ed7953\"],[0.7777777777777778,\"#fb9f3a\"],[0.8888888888888888,\"#fdca26\"],[1.0,\"#f0f921\"]]}],\"heatmapgl\":[{\"type\":\"heatmapgl\",\"colorbar\":{\"outlinewidth\":0,\"ticks\":\"\"},\"colorscale\":[[0.0,\"#0d0887\"],[0.1111111111111111,\"#46039f\"],[0.2222222222222222,\"#7201a8\"],[0.3333333333333333,\"#9c179e\"],[0.4444444444444444,\"#bd3786\"],[0.5555555555555556,\"#d8576b\"],[0.6666666666666666,\"#ed7953\"],[0.7777777777777778,\"#fb9f3a\"],[0.8888888888888888,\"#fdca26\"],[1.0,\"#f0f921\"]]}],\"contourcarpet\":[{\"type\":\"contourcarpet\",\"colorbar\":{\"outlinewidth\":0,\"ticks\":\"\"}}],\"contour\":[{\"type\":\"contour\",\"colorbar\":{\"outlinewidth\":0,\"ticks\":\"\"},\"colorscale\":[[0.0,\"#0d0887\"],[0.1111111111111111,\"#46039f\"],[0.2222222222222222,\"#7201a8\"],[0.3333333333333333,\"#9c179e\"],[0.4444444444444444,\"#bd3786\"],[0.5555555555555556,\"#d8576b\"],[0.6666666666666666,\"#ed7953\"],[0.7777777777777778,\"#fb9f3a\"],[0.8888888888888888,\"#fdca26\"],[1.0,\"#f0f921\"]]}],\"surface\":[{\"type\":\"surface\",\"colorbar\":{\"outlinewidth\":0,\"ticks\":\"\"},\"colorscale\":[[0.0,\"#0d0887\"],[0.1111111111111111,\"#46039f\"],[0.2222222222222222,\"#7201a8\"],[0.3333333333333333,\"#9c179e\"],[0.4444444444444444,\"#bd3786\"],[0.5555555555555556,\"#d8576b\"],[0.6666666666666666,\"#ed7953\"],[0.7777777777777778,\"#fb9f3a\"],[0.8888888888888888,\"#fdca26\"],[1.0,\"#f0f921\"]]}],\"mesh3d\":[{\"type\":\"mesh3d\",\"colorbar\":{\"outlinewidth\":0,\"ticks\":\"\"}}],\"scatter\":[{\"fillpattern\":{\"fillmode\":\"overlay\",\"size\":10,\"solidity\":0.2},\"type\":\"scatter\"}],\"parcoords\":[{\"type\":\"parcoords\",\"line\":{\"colorbar\":{\"outlinewidth\":0,\"ticks\":\"\"}}}],\"scatterpolargl\":[{\"type\":\"scatterpolargl\",\"marker\":{\"colorbar\":{\"outlinewidth\":0,\"ticks\":\"\"}}}],\"bar\":[{\"error_x\":{\"color\":\"#2a3f5f\"},\"error_y\":{\"color\":\"#2a3f5f\"},\"marker\":{\"line\":{\"color\":\"#E5ECF6\",\"width\":0.5},\"pattern\":{\"fillmode\":\"overlay\",\"size\":10,\"solidity\":0.2}},\"type\":\"bar\"}],\"scattergeo\":[{\"type\":\"scattergeo\",\"marker\":{\"colorbar\":{\"outlinewidth\":0,\"ticks\":\"\"}}}],\"scatterpolar\":[{\"type\":\"scatterpolar\",\"marker\":{\"colorbar\":{\"outlinewidth\":0,\"ticks\":\"\"}}}],\"histogram\":[{\"marker\":{\"pattern\":{\"fillmode\":\"overlay\",\"size\":10,\"solidity\":0.2}},\"type\":\"histogram\"}],\"scattergl\":[{\"type\":\"scattergl\",\"marker\":{\"colorbar\":{\"outlinewidth\":0,\"ticks\":\"\"}}}],\"scatter3d\":[{\"type\":\"scatter3d\",\"line\":{\"colorbar\":{\"outlinewidth\":0,\"ticks\":\"\"}},\"marker\":{\"colorbar\":{\"outlinewidth\":0,\"ticks\":\"\"}}}],\"scattermapbox\":[{\"type\":\"scattermapbox\",\"marker\":{\"colorbar\":{\"outlinewidth\":0,\"ticks\":\"\"}}}],\"scatterternary\":[{\"type\":\"scatterternary\",\"marker\":{\"colorbar\":{\"outlinewidth\":0,\"ticks\":\"\"}}}],\"scattercarpet\":[{\"type\":\"scattercarpet\",\"marker\":{\"colorbar\":{\"outlinewidth\":0,\"ticks\":\"\"}}}],\"carpet\":[{\"aaxis\":{\"endlinecolor\":\"#2a3f5f\",\"gridcolor\":\"white\",\"linecolor\":\"white\",\"minorgridcolor\":\"white\",\"startlinecolor\":\"#2a3f5f\"},\"baxis\":{\"endlinecolor\":\"#2a3f5f\",\"gridcolor\":\"white\",\"linecolor\":\"white\",\"minorgridcolor\":\"white\",\"startlinecolor\":\"#2a3f5f\"},\"type\":\"carpet\"}],\"table\":[{\"cells\":{\"fill\":{\"color\":\"#EBF0F8\"},\"line\":{\"color\":\"white\"}},\"header\":{\"fill\":{\"color\":\"#C8D4E3\"},\"line\":{\"color\":\"white\"}},\"type\":\"table\"}],\"barpolar\":[{\"marker\":{\"line\":{\"color\":\"#E5ECF6\",\"width\":0.5},\"pattern\":{\"fillmode\":\"overlay\",\"size\":10,\"solidity\":0.2}},\"type\":\"barpolar\"}],\"pie\":[{\"automargin\":true,\"type\":\"pie\"}]},\"layout\":{\"autotypenumbers\":\"strict\",\"colorway\":[\"#636efa\",\"#EF553B\",\"#00cc96\",\"#ab63fa\",\"#FFA15A\",\"#19d3f3\",\"#FF6692\",\"#B6E880\",\"#FF97FF\",\"#FECB52\"],\"font\":{\"color\":\"#2a3f5f\"},\"hovermode\":\"closest\",\"hoverlabel\":{\"align\":\"left\"},\"paper_bgcolor\":\"white\",\"plot_bgcolor\":\"#E5ECF6\",\"polar\":{\"bgcolor\":\"#E5ECF6\",\"angularaxis\":{\"gridcolor\":\"white\",\"linecolor\":\"white\",\"ticks\":\"\"},\"radialaxis\":{\"gridcolor\":\"white\",\"linecolor\":\"white\",\"ticks\":\"\"}},\"ternary\":{\"bgcolor\":\"#E5ECF6\",\"aaxis\":{\"gridcolor\":\"white\",\"linecolor\":\"white\",\"ticks\":\"\"},\"baxis\":{\"gridcolor\":\"white\",\"linecolor\":\"white\",\"ticks\":\"\"},\"caxis\":{\"gridcolor\":\"white\",\"linecolor\":\"white\",\"ticks\":\"\"}},\"coloraxis\":{\"colorbar\":{\"outlinewidth\":0,\"ticks\":\"\"}},\"colorscale\":{\"sequential\":[[0.0,\"#0d0887\"],[0.1111111111111111,\"#46039f\"],[0.2222222222222222,\"#7201a8\"],[0.3333333333333333,\"#9c179e\"],[0.4444444444444444,\"#bd3786\"],[0.5555555555555556,\"#d8576b\"],[0.6666666666666666,\"#ed7953\"],[0.7777777777777778,\"#fb9f3a\"],[0.8888888888888888,\"#fdca26\"],[1.0,\"#f0f921\"]],\"sequentialminus\":[[0.0,\"#0d0887\"],[0.1111111111111111,\"#46039f\"],[0.2222222222222222,\"#7201a8\"],[0.3333333333333333,\"#9c179e\"],[0.4444444444444444,\"#bd3786\"],[0.5555555555555556,\"#d8576b\"],[0.6666666666666666,\"#ed7953\"],[0.7777777777777778,\"#fb9f3a\"],[0.8888888888888888,\"#fdca26\"],[1.0,\"#f0f921\"]],\"diverging\":[[0,\"#8e0152\"],[0.1,\"#c51b7d\"],[0.2,\"#de77ae\"],[0.3,\"#f1b6da\"],[0.4,\"#fde0ef\"],[0.5,\"#f7f7f7\"],[0.6,\"#e6f5d0\"],[0.7,\"#b8e186\"],[0.8,\"#7fbc41\"],[0.9,\"#4d9221\"],[1,\"#276419\"]]},\"xaxis\":{\"gridcolor\":\"white\",\"linecolor\":\"white\",\"ticks\":\"\",\"title\":{\"standoff\":15},\"zerolinecolor\":\"white\",\"automargin\":true,\"zerolinewidth\":2},\"yaxis\":{\"gridcolor\":\"white\",\"linecolor\":\"white\",\"ticks\":\"\",\"title\":{\"standoff\":15},\"zerolinecolor\":\"white\",\"automargin\":true,\"zerolinewidth\":2},\"scene\":{\"xaxis\":{\"backgroundcolor\":\"#E5ECF6\",\"gridcolor\":\"white\",\"linecolor\":\"white\",\"showbackground\":true,\"ticks\":\"\",\"zerolinecolor\":\"white\",\"gridwidth\":2},\"yaxis\":{\"backgroundcolor\":\"#E5ECF6\",\"gridcolor\":\"white\",\"linecolor\":\"white\",\"showbackground\":true,\"ticks\":\"\",\"zerolinecolor\":\"white\",\"gridwidth\":2},\"zaxis\":{\"backgroundcolor\":\"#E5ECF6\",\"gridcolor\":\"white\",\"linecolor\":\"white\",\"showbackground\":true,\"ticks\":\"\",\"zerolinecolor\":\"white\",\"gridwidth\":2}},\"shapedefaults\":{\"line\":{\"color\":\"#2a3f5f\"}},\"annotationdefaults\":{\"arrowcolor\":\"#2a3f5f\",\"arrowhead\":0,\"arrowwidth\":1},\"geo\":{\"bgcolor\":\"white\",\"landcolor\":\"#E5ECF6\",\"subunitcolor\":\"white\",\"showland\":true,\"showlakes\":true,\"lakecolor\":\"white\"},\"title\":{\"x\":0.05},\"mapbox\":{\"style\":\"light\"}}},\"scene\":{\"domain\":{\"x\":[0.0,1.0],\"y\":[0.0,1.0]},\"xaxis\":{\"title\":{\"text\":\"x\"}},\"yaxis\":{\"title\":{\"text\":\"y\"}},\"zaxis\":{\"title\":{\"text\":\"z\"}}},\"legend\":{\"tracegroupgap\":0},\"margin\":{\"t\":60}},                        {\"responsive\": true}                    ).then(function(){\n",
              "                            \n",
              "var gd = document.getElementById('abfeff60-9b76-48e2-987a-9b3ea5437e08');\n",
              "var x = new MutationObserver(function (mutations, observer) {{\n",
              "        var display = window.getComputedStyle(gd).display;\n",
              "        if (!display || display === 'none') {{\n",
              "            console.log([gd, 'removed!']);\n",
              "            Plotly.purge(gd);\n",
              "            observer.disconnect();\n",
              "        }}\n",
              "}});\n",
              "\n",
              "// Listen for the removal of the full notebook cells\n",
              "var notebookContainer = gd.closest('#notebook-container');\n",
              "if (notebookContainer) {{\n",
              "    x.observe(notebookContainer, {childList: true});\n",
              "}}\n",
              "\n",
              "// Listen for the clearing of the current output cell\n",
              "var outputEl = gd.closest('.output');\n",
              "if (outputEl) {{\n",
              "    x.observe(outputEl, {childList: true});\n",
              "}}\n",
              "\n",
              "                        })                };                            </script>        </div>\n",
              "</body>\n",
              "</html>"
            ]
          },
          "metadata": {}
        }
      ]
    },
    {
      "cell_type": "code",
      "source": [
        "lr = LinearRegression()\n",
        "lr.fit(np.array([x,y]).reshape(100,2),z)\n",
        "\n",
        "x_input = np.linspace(x.min(), x.max(), 10)\n",
        "y_input = np.linspace(y.min(), y.max(), 10)\n",
        "xGrid, yGrid = np.meshgrid(x_input,y_input)\n",
        "\n",
        "final = np.vstack((xGrid.ravel().reshape(1,100),yGrid.ravel().reshape(1,100))).T\n",
        "\n",
        "z_final = lr.predict(final).reshape(10,10)"
      ],
      "metadata": {
        "id": "EFBRlAH1TaeF"
      },
      "execution_count": 23,
      "outputs": []
    },
    {
      "cell_type": "code",
      "source": [
        "import plotly.graph_objects as go\n",
        "\n",
        "fig = px.scatter_3d(df, x=x.ravel(), y=y.ravel(), z=z.ravel())\n",
        "\n",
        "fig.add_trace(go.Surface(x = x_input, y = y_input, z =z_final ))\n",
        "\n",
        "fig.show()"
      ],
      "metadata": {
        "colab": {
          "base_uri": "https://localhost:8080/",
          "height": 542
        },
        "id": "JnUIBGIiTeFU",
        "outputId": "35a7b52b-286e-4aa6-c640-d518430252ce"
      },
      "execution_count": 24,
      "outputs": [
        {
          "output_type": "display_data",
          "data": {
            "text/html": [
              "<html>\n",
              "<head><meta charset=\"utf-8\" /></head>\n",
              "<body>\n",
              "    <div>            <script src=\"https://cdnjs.cloudflare.com/ajax/libs/mathjax/2.7.5/MathJax.js?config=TeX-AMS-MML_SVG\"></script><script type=\"text/javascript\">if (window.MathJax && window.MathJax.Hub && window.MathJax.Hub.Config) {window.MathJax.Hub.Config({SVG: {font: \"STIX-Web\"}});}</script>                <script type=\"text/javascript\">window.PlotlyConfig = {MathJaxConfig: 'local'};</script>\n",
              "        <script charset=\"utf-8\" src=\"https://cdn.plot.ly/plotly-2.24.1.min.js\"></script>                <div id=\"dc4b4112-ac2a-435c-95b2-15aadfa245a8\" class=\"plotly-graph-div\" style=\"height:525px; width:100%;\"></div>            <script type=\"text/javascript\">                                    window.PLOTLYENV=window.PLOTLYENV || {};                                    if (document.getElementById(\"dc4b4112-ac2a-435c-95b2-15aadfa245a8\")) {                    Plotly.newPlot(                        \"dc4b4112-ac2a-435c-95b2-15aadfa245a8\",                        [{\"hovertemplate\":\"x=%{x}\\u003cbr\\u003ey=%{y}\\u003cbr\\u003ez=%{z}\\u003cextra\\u003e\\u003c\\u002fextra\\u003e\",\"legendgroup\":\"\",\"marker\":{\"color\":\"#636efa\",\"symbol\":\"circle\"},\"mode\":\"markers\",\"name\":\"\",\"scene\":\"scene\",\"showlegend\":false,\"x\":[-0.5788625766091942,3.317007543176074,-2.7572481941940206,-2.306501058933976,3.650328235170102,1.8709688400232949,0.03156981367132783,2.639318693200658,-0.5691242505375893,-2.111278305203269,-2.7822415959037947,-0.9529008821152896,3.3947229607121834,1.4837649996667022,-1.3365398419538876,1.1546045193998937,-2.014332981713305,-2.4233197145343968,2.0083233486346987,-0.0395356866363894,0.7762351271437327,-2.1397077223604146,3.4320402171671596,-2.4827716827606388,1.224338658885114,-0.6275314711887656,2.0795125697628247,-2.3148843671820885,-0.3784323454174623,3.04953834522727,1.1485440930617385,4.087810564609628,-2.321869298197967,0.13505850130257624,1.1328515674066004,-2.2892964201471355,1.786002644450999,-0.5691417568736048,-2.5264347484030196,-1.2723511895650834,-0.9739168801250697,2.4301233104848174,-0.07005653855034444,3.57212308563681,2.781006659750269,1.9939047436094013,0.4450300506600051,2.32598865157905,2.67601820218841,0.7807795201023673,-1.6313515193880335,3.879747957401478,-0.9409756516429413,-2.4564877683269373,-0.4926821274227762,-2.733962526053096,-0.7922031444224382,3.7732152195424744,0.9708466462851537,1.7578018852417232,2.8496677879864007,-0.2692854157675857,3.6867601407824138,-0.11921146394857374,-2.481444586744929,2.0009847477391878,1.2786209012426193,-1.45908608953114,0.45900181737517043,0.32803111249449124,2.4755796611498155,0.2691924569999884,-0.18401147814496444,2.0801452218549077,1.7944447348863104,-0.1294674498572035,0.14346848693145287,-2.1951522111281108,-2.601966724253006,-0.3793685653073049,0.8629979215621191,-1.7341367674078034,1.814632221926444,2.2667368851327163,1.4283974031648201,0.8682869554293084,-0.12110036611931108,2.694039902609032,4.149795122240948,-0.5478766305803355,-1.9307148436610435,-2.65042417007147,-1.9841708775357407,-2.552112314089202,1.9331806116376118,0.7138497878358288,-0.9972685242646131,-1.734755682980328,-2.2433827609744434,0.8078524654464316],\"y\":[1.0470788238935151,3.4399739479472125,2.308522724375303,2.885480521124352,-2.41253197537898,-0.9556142068479194,-2.2032153859093855,-1.7956807629485005,-0.3427362137977683,-0.48608177738974234,1.0423404075590712,-2.3197351953628385,-0.6549872351095485,3.1448523032105724,1.8916443671479417,0.6106663685531024,4.120939943489926,1.2083446323720954,3.7943525620154963,3.9744158742419513,4.17556844876056,-2.104303268422773,3.7531261756456225,-1.2545712289044915,-0.527420117604879,2.2308645751732117,1.8216840927405729,3.095867770834384,1.3240443692965522,1.3536135542835845,-2.7644940773673747,1.266429640261931,-0.32416553732887365,0.968597487573323,-2.172172680190542,2.271380025928879,4.0576463351436205,-0.6233032504988678,1.8637208111558863,3.2060615323558554,3.547671073536365,-1.3290799466069845,2.0157622823427985,3.110802955338807,3.144006392784102,-1.7875581231638429,4.0910836023234385,3.9073416544901356,2.315163125382922,-0.6660431736569037,1.0645245241667594,1.5445708680832562,-2.7086635146013167,2.864511833635663,-1.7191404878762544,3.2782964867136597,3.965122883556238,-2.249171242144605,0.8759832760385233,2.0537813381436445,-0.8020377517828936,2.688685553888032,-0.4071449291048608,-1.5543834064382664,3.7400659667082907,0.22586605132046778,-0.33428402241478183,1.9843809352436832,-0.263749078349623,-2.205396797815624,3.110436372382689,2.7773611969979166,-2.281612321967761,1.5058343961880425,-1.0967460388357924,1.286093755798813,4.186346802840465,0.053881622288609154,3.8810441450631323,-0.2829917419147634,2.178366743165194,-1.3803445962584204,-1.957759938622131,2.4546027573980593,3.4470259183829537,-0.12344090843953603,3.310857967709355,0.7332430852679499,0.478586378569573,0.3550734354052625,-2.14779855132882,1.1134516334776667,-1.1718001647263847,3.951186815228273,-0.19127809044621458,-2.5736130429509925,2.160908235845837,2.3006405800470215,-0.7688319227542637,-1.9339032254727029],\"z\":[4.108468640984792,25.82087240437619,13.776441515732678,14.300350820469937,19.441247571846905,5.7874857743414525,6.83388660523527,9.575388076819534,1.2679335922194126,5.703468482365537,9.428917927470616,9.035484820744918,14.64905359553102,14.76558720475029,7.945183193324098,3.728807666894923,23.339636972278736,9.684352678345935,21.27877664642663,17.94688814384202,22.108895671670638,9.944556588912654,29.14927974959328,8.143194757875323,3.457581418903999,8.504937279549665,10.84478003961742,16.500297328920325,2.698507112709152,15.294522377905619,10.553898759333393,22.28973077912484,6.9362062526632355,4.292612662172684,7.554992483581386,11.837584598953635,25.085343931572506,2.858944494629619,9.988972835099688,16.452797948602527,15.519810962286995,9.683154020773786,7.052969990135712,25.46744720298603,21.753015217244272,9.259585446612377,19.740913923785808,23.760299565071914,14.965055172143085,2.908220622108907,7.396845627468872,21.920792272411155,9.595712948082442,12.875558748987343,5.630141489091487,21.261935009160084,18.588666330624033,22.821472727819806,4.638295174747237,10.182912793307581,10.822233075684172,8.144203334776261,17.087957308768704,3.3469070637300176,19.473294077563743,4.792532496130978,2.6211971646266212,7.876604263700773,1.5822802014399784,5.99214373948074,19.72227810883597,10.698439233505738,6.642103185984909,9.602189965955242,6.013232557852773,4.693858280934482,20.236422966600582,7.028250643350705,24.463339552630185,3.7487045699934294,8.784026443849973,7.286581379399039,6.584870713851627,14.495176695224187,16.844639469544386,2.435731309483333,13.212364145697029,11.34409745217966,19.07312731998859,1.8239338630403406,10.930584943817646,8.296365657767579,5.48013059518021,22.58771841929269,6.674720008170399,9.393294843224895,7.719809302546228,11.01974240174067,6.564602543690109,5.304774920638324],\"type\":\"scatter3d\"},{\"x\":[-2.7822415959037947,-2.0120152938877123,-1.2417889918716296,-0.47156268985554695,0.2986636121605355,1.068889914176618,1.8391162161927008,2.6093425182087833,3.3795688202248657,4.149795122240948],\"y\":[-2.7644940773673747,-1.9921784240109481,-1.2198627706545215,-0.44754711729809493,0.32476853605833167,1.0970841894147583,1.8693998427711849,2.6417154961276115,3.414031149484038,4.186346802840465],\"z\":[[13.234464871699881,13.211647405951648,13.188829940203416,13.166012474455185,13.143195008706952,13.12037754295872,13.097560077210488,13.074742611462256,13.051925145714023,13.02910767996579],[12.87274869008232,12.849931224334089,12.827113758585856,12.804296292837623,12.78147882708939,12.75866136134116,12.735843895592927,12.713026429844694,12.690208964096461,12.66739149834823],[12.51103250846476,12.488215042716527,12.465397576968295,12.442580111220064,12.419762645471831,12.396945179723598,12.374127713975366,12.351310248227135,12.328492782478902,12.30567531673067],[12.149316326847199,12.126498861098966,12.103681395350735,12.080863929602502,12.05804646385427,12.035228998106039,12.012411532357806,11.989594066609573,11.96677660086134,11.94395913511311],[11.78760014522964,11.764782679481407,11.741965213733174,11.719147747984941,11.69633028223671,11.673512816488477,11.650695350740245,11.627877884992014,11.605060419243781,11.582242953495548],[11.425883963612078,11.403066497863845,11.380249032115614,11.357431566367381,11.334614100619149,11.311796634870916,11.288979169122685,11.266161703374452,11.24334423762622,11.220526771877989],[11.064167781994518,11.041350316246286,11.018532850498053,10.99571538474982,10.97289791900159,10.950080453253356,10.927262987505124,10.904445521756891,10.88162805600866,10.858810590260427],[10.702451600376957,10.679634134628724,10.656816668880493,10.63399920313226,10.611181737384028,10.588364271635797,10.565546805887564,10.542729340139331,10.519911874391099,10.497094408642866],[10.340735418759397,10.317917953011165,10.295100487262932,10.2722830215147,10.249465555766466,10.226648090018235,10.203830624270003,10.18101315852177,10.158195692773539,10.135378227025306],[9.979019237141836,9.956201771393603,9.933384305645372,9.91056683989714,9.887749374148907,9.864931908400674,9.842114442652441,9.81929697690421,9.796479511155978,9.773662045407747]],\"type\":\"surface\"}],                        {\"template\":{\"data\":{\"histogram2dcontour\":[{\"type\":\"histogram2dcontour\",\"colorbar\":{\"outlinewidth\":0,\"ticks\":\"\"},\"colorscale\":[[0.0,\"#0d0887\"],[0.1111111111111111,\"#46039f\"],[0.2222222222222222,\"#7201a8\"],[0.3333333333333333,\"#9c179e\"],[0.4444444444444444,\"#bd3786\"],[0.5555555555555556,\"#d8576b\"],[0.6666666666666666,\"#ed7953\"],[0.7777777777777778,\"#fb9f3a\"],[0.8888888888888888,\"#fdca26\"],[1.0,\"#f0f921\"]]}],\"choropleth\":[{\"type\":\"choropleth\",\"colorbar\":{\"outlinewidth\":0,\"ticks\":\"\"}}],\"histogram2d\":[{\"type\":\"histogram2d\",\"colorbar\":{\"outlinewidth\":0,\"ticks\":\"\"},\"colorscale\":[[0.0,\"#0d0887\"],[0.1111111111111111,\"#46039f\"],[0.2222222222222222,\"#7201a8\"],[0.3333333333333333,\"#9c179e\"],[0.4444444444444444,\"#bd3786\"],[0.5555555555555556,\"#d8576b\"],[0.6666666666666666,\"#ed7953\"],[0.7777777777777778,\"#fb9f3a\"],[0.8888888888888888,\"#fdca26\"],[1.0,\"#f0f921\"]]}],\"heatmap\":[{\"type\":\"heatmap\",\"colorbar\":{\"outlinewidth\":0,\"ticks\":\"\"},\"colorscale\":[[0.0,\"#0d0887\"],[0.1111111111111111,\"#46039f\"],[0.2222222222222222,\"#7201a8\"],[0.3333333333333333,\"#9c179e\"],[0.4444444444444444,\"#bd3786\"],[0.5555555555555556,\"#d8576b\"],[0.6666666666666666,\"#ed7953\"],[0.7777777777777778,\"#fb9f3a\"],[0.8888888888888888,\"#fdca26\"],[1.0,\"#f0f921\"]]}],\"heatmapgl\":[{\"type\":\"heatmapgl\",\"colorbar\":{\"outlinewidth\":0,\"ticks\":\"\"},\"colorscale\":[[0.0,\"#0d0887\"],[0.1111111111111111,\"#46039f\"],[0.2222222222222222,\"#7201a8\"],[0.3333333333333333,\"#9c179e\"],[0.4444444444444444,\"#bd3786\"],[0.5555555555555556,\"#d8576b\"],[0.6666666666666666,\"#ed7953\"],[0.7777777777777778,\"#fb9f3a\"],[0.8888888888888888,\"#fdca26\"],[1.0,\"#f0f921\"]]}],\"contourcarpet\":[{\"type\":\"contourcarpet\",\"colorbar\":{\"outlinewidth\":0,\"ticks\":\"\"}}],\"contour\":[{\"type\":\"contour\",\"colorbar\":{\"outlinewidth\":0,\"ticks\":\"\"},\"colorscale\":[[0.0,\"#0d0887\"],[0.1111111111111111,\"#46039f\"],[0.2222222222222222,\"#7201a8\"],[0.3333333333333333,\"#9c179e\"],[0.4444444444444444,\"#bd3786\"],[0.5555555555555556,\"#d8576b\"],[0.6666666666666666,\"#ed7953\"],[0.7777777777777778,\"#fb9f3a\"],[0.8888888888888888,\"#fdca26\"],[1.0,\"#f0f921\"]]}],\"surface\":[{\"type\":\"surface\",\"colorbar\":{\"outlinewidth\":0,\"ticks\":\"\"},\"colorscale\":[[0.0,\"#0d0887\"],[0.1111111111111111,\"#46039f\"],[0.2222222222222222,\"#7201a8\"],[0.3333333333333333,\"#9c179e\"],[0.4444444444444444,\"#bd3786\"],[0.5555555555555556,\"#d8576b\"],[0.6666666666666666,\"#ed7953\"],[0.7777777777777778,\"#fb9f3a\"],[0.8888888888888888,\"#fdca26\"],[1.0,\"#f0f921\"]]}],\"mesh3d\":[{\"type\":\"mesh3d\",\"colorbar\":{\"outlinewidth\":0,\"ticks\":\"\"}}],\"scatter\":[{\"fillpattern\":{\"fillmode\":\"overlay\",\"size\":10,\"solidity\":0.2},\"type\":\"scatter\"}],\"parcoords\":[{\"type\":\"parcoords\",\"line\":{\"colorbar\":{\"outlinewidth\":0,\"ticks\":\"\"}}}],\"scatterpolargl\":[{\"type\":\"scatterpolargl\",\"marker\":{\"colorbar\":{\"outlinewidth\":0,\"ticks\":\"\"}}}],\"bar\":[{\"error_x\":{\"color\":\"#2a3f5f\"},\"error_y\":{\"color\":\"#2a3f5f\"},\"marker\":{\"line\":{\"color\":\"#E5ECF6\",\"width\":0.5},\"pattern\":{\"fillmode\":\"overlay\",\"size\":10,\"solidity\":0.2}},\"type\":\"bar\"}],\"scattergeo\":[{\"type\":\"scattergeo\",\"marker\":{\"colorbar\":{\"outlinewidth\":0,\"ticks\":\"\"}}}],\"scatterpolar\":[{\"type\":\"scatterpolar\",\"marker\":{\"colorbar\":{\"outlinewidth\":0,\"ticks\":\"\"}}}],\"histogram\":[{\"marker\":{\"pattern\":{\"fillmode\":\"overlay\",\"size\":10,\"solidity\":0.2}},\"type\":\"histogram\"}],\"scattergl\":[{\"type\":\"scattergl\",\"marker\":{\"colorbar\":{\"outlinewidth\":0,\"ticks\":\"\"}}}],\"scatter3d\":[{\"type\":\"scatter3d\",\"line\":{\"colorbar\":{\"outlinewidth\":0,\"ticks\":\"\"}},\"marker\":{\"colorbar\":{\"outlinewidth\":0,\"ticks\":\"\"}}}],\"scattermapbox\":[{\"type\":\"scattermapbox\",\"marker\":{\"colorbar\":{\"outlinewidth\":0,\"ticks\":\"\"}}}],\"scatterternary\":[{\"type\":\"scatterternary\",\"marker\":{\"colorbar\":{\"outlinewidth\":0,\"ticks\":\"\"}}}],\"scattercarpet\":[{\"type\":\"scattercarpet\",\"marker\":{\"colorbar\":{\"outlinewidth\":0,\"ticks\":\"\"}}}],\"carpet\":[{\"aaxis\":{\"endlinecolor\":\"#2a3f5f\",\"gridcolor\":\"white\",\"linecolor\":\"white\",\"minorgridcolor\":\"white\",\"startlinecolor\":\"#2a3f5f\"},\"baxis\":{\"endlinecolor\":\"#2a3f5f\",\"gridcolor\":\"white\",\"linecolor\":\"white\",\"minorgridcolor\":\"white\",\"startlinecolor\":\"#2a3f5f\"},\"type\":\"carpet\"}],\"table\":[{\"cells\":{\"fill\":{\"color\":\"#EBF0F8\"},\"line\":{\"color\":\"white\"}},\"header\":{\"fill\":{\"color\":\"#C8D4E3\"},\"line\":{\"color\":\"white\"}},\"type\":\"table\"}],\"barpolar\":[{\"marker\":{\"line\":{\"color\":\"#E5ECF6\",\"width\":0.5},\"pattern\":{\"fillmode\":\"overlay\",\"size\":10,\"solidity\":0.2}},\"type\":\"barpolar\"}],\"pie\":[{\"automargin\":true,\"type\":\"pie\"}]},\"layout\":{\"autotypenumbers\":\"strict\",\"colorway\":[\"#636efa\",\"#EF553B\",\"#00cc96\",\"#ab63fa\",\"#FFA15A\",\"#19d3f3\",\"#FF6692\",\"#B6E880\",\"#FF97FF\",\"#FECB52\"],\"font\":{\"color\":\"#2a3f5f\"},\"hovermode\":\"closest\",\"hoverlabel\":{\"align\":\"left\"},\"paper_bgcolor\":\"white\",\"plot_bgcolor\":\"#E5ECF6\",\"polar\":{\"bgcolor\":\"#E5ECF6\",\"angularaxis\":{\"gridcolor\":\"white\",\"linecolor\":\"white\",\"ticks\":\"\"},\"radialaxis\":{\"gridcolor\":\"white\",\"linecolor\":\"white\",\"ticks\":\"\"}},\"ternary\":{\"bgcolor\":\"#E5ECF6\",\"aaxis\":{\"gridcolor\":\"white\",\"linecolor\":\"white\",\"ticks\":\"\"},\"baxis\":{\"gridcolor\":\"white\",\"linecolor\":\"white\",\"ticks\":\"\"},\"caxis\":{\"gridcolor\":\"white\",\"linecolor\":\"white\",\"ticks\":\"\"}},\"coloraxis\":{\"colorbar\":{\"outlinewidth\":0,\"ticks\":\"\"}},\"colorscale\":{\"sequential\":[[0.0,\"#0d0887\"],[0.1111111111111111,\"#46039f\"],[0.2222222222222222,\"#7201a8\"],[0.3333333333333333,\"#9c179e\"],[0.4444444444444444,\"#bd3786\"],[0.5555555555555556,\"#d8576b\"],[0.6666666666666666,\"#ed7953\"],[0.7777777777777778,\"#fb9f3a\"],[0.8888888888888888,\"#fdca26\"],[1.0,\"#f0f921\"]],\"sequentialminus\":[[0.0,\"#0d0887\"],[0.1111111111111111,\"#46039f\"],[0.2222222222222222,\"#7201a8\"],[0.3333333333333333,\"#9c179e\"],[0.4444444444444444,\"#bd3786\"],[0.5555555555555556,\"#d8576b\"],[0.6666666666666666,\"#ed7953\"],[0.7777777777777778,\"#fb9f3a\"],[0.8888888888888888,\"#fdca26\"],[1.0,\"#f0f921\"]],\"diverging\":[[0,\"#8e0152\"],[0.1,\"#c51b7d\"],[0.2,\"#de77ae\"],[0.3,\"#f1b6da\"],[0.4,\"#fde0ef\"],[0.5,\"#f7f7f7\"],[0.6,\"#e6f5d0\"],[0.7,\"#b8e186\"],[0.8,\"#7fbc41\"],[0.9,\"#4d9221\"],[1,\"#276419\"]]},\"xaxis\":{\"gridcolor\":\"white\",\"linecolor\":\"white\",\"ticks\":\"\",\"title\":{\"standoff\":15},\"zerolinecolor\":\"white\",\"automargin\":true,\"zerolinewidth\":2},\"yaxis\":{\"gridcolor\":\"white\",\"linecolor\":\"white\",\"ticks\":\"\",\"title\":{\"standoff\":15},\"zerolinecolor\":\"white\",\"automargin\":true,\"zerolinewidth\":2},\"scene\":{\"xaxis\":{\"backgroundcolor\":\"#E5ECF6\",\"gridcolor\":\"white\",\"linecolor\":\"white\",\"showbackground\":true,\"ticks\":\"\",\"zerolinecolor\":\"white\",\"gridwidth\":2},\"yaxis\":{\"backgroundcolor\":\"#E5ECF6\",\"gridcolor\":\"white\",\"linecolor\":\"white\",\"showbackground\":true,\"ticks\":\"\",\"zerolinecolor\":\"white\",\"gridwidth\":2},\"zaxis\":{\"backgroundcolor\":\"#E5ECF6\",\"gridcolor\":\"white\",\"linecolor\":\"white\",\"showbackground\":true,\"ticks\":\"\",\"zerolinecolor\":\"white\",\"gridwidth\":2}},\"shapedefaults\":{\"line\":{\"color\":\"#2a3f5f\"}},\"annotationdefaults\":{\"arrowcolor\":\"#2a3f5f\",\"arrowhead\":0,\"arrowwidth\":1},\"geo\":{\"bgcolor\":\"white\",\"landcolor\":\"#E5ECF6\",\"subunitcolor\":\"white\",\"showland\":true,\"showlakes\":true,\"lakecolor\":\"white\"},\"title\":{\"x\":0.05},\"mapbox\":{\"style\":\"light\"}}},\"scene\":{\"domain\":{\"x\":[0.0,1.0],\"y\":[0.0,1.0]},\"xaxis\":{\"title\":{\"text\":\"x\"}},\"yaxis\":{\"title\":{\"text\":\"y\"}},\"zaxis\":{\"title\":{\"text\":\"z\"}}},\"legend\":{\"tracegroupgap\":0},\"margin\":{\"t\":60}},                        {\"responsive\": true}                    ).then(function(){\n",
              "                            \n",
              "var gd = document.getElementById('dc4b4112-ac2a-435c-95b2-15aadfa245a8');\n",
              "var x = new MutationObserver(function (mutations, observer) {{\n",
              "        var display = window.getComputedStyle(gd).display;\n",
              "        if (!display || display === 'none') {{\n",
              "            console.log([gd, 'removed!']);\n",
              "            Plotly.purge(gd);\n",
              "            observer.disconnect();\n",
              "        }}\n",
              "}});\n",
              "\n",
              "// Listen for the removal of the full notebook cells\n",
              "var notebookContainer = gd.closest('#notebook-container');\n",
              "if (notebookContainer) {{\n",
              "    x.observe(notebookContainer, {childList: true});\n",
              "}}\n",
              "\n",
              "// Listen for the clearing of the current output cell\n",
              "var outputEl = gd.closest('.output');\n",
              "if (outputEl) {{\n",
              "    x.observe(outputEl, {childList: true});\n",
              "}}\n",
              "\n",
              "                        })                };                            </script>        </div>\n",
              "</body>\n",
              "</html>"
            ]
          },
          "metadata": {}
        }
      ]
    },
    {
      "cell_type": "code",
      "source": [
        "X_multi = np.array([x,y]).reshape(100,2)\n",
        "X_multi.shape"
      ],
      "metadata": {
        "colab": {
          "base_uri": "https://localhost:8080/"
        },
        "id": "dswKJr52Tgm8",
        "outputId": "4a1ff025-29bf-41b3-fabf-7217b1b4d8de"
      },
      "execution_count": 25,
      "outputs": [
        {
          "output_type": "execute_result",
          "data": {
            "text/plain": [
              "(100, 2)"
            ]
          },
          "metadata": {},
          "execution_count": 25
        }
      ]
    },
    {
      "cell_type": "code",
      "source": [
        "poly = PolynomialFeatures(degree=30)\n",
        "X_multi_trans = poly.fit_transform(X_multi)"
      ],
      "metadata": {
        "id": "PWVrSN1pF8Mv"
      },
      "execution_count": 26,
      "outputs": []
    },
    {
      "cell_type": "code",
      "source": [
        "print(\"Input\",poly.n_features_in_)\n",
        "print(\"Ouput\",poly.n_output_features_)\n",
        "print(\"Powers\\n\",poly.powers_)"
      ],
      "metadata": {
        "colab": {
          "base_uri": "https://localhost:8080/"
        },
        "id": "b8jCMBxmF-rJ",
        "outputId": "547d41d1-3700-455b-8e03-fb9d19fd812f"
      },
      "execution_count": 30,
      "outputs": [
        {
          "output_type": "stream",
          "name": "stdout",
          "text": [
            "Input 2\n",
            "Ouput 496\n",
            "Powers\n",
            " [[ 0  0]\n",
            " [ 1  0]\n",
            " [ 0  1]\n",
            " [ 2  0]\n",
            " [ 1  1]\n",
            " [ 0  2]\n",
            " [ 3  0]\n",
            " [ 2  1]\n",
            " [ 1  2]\n",
            " [ 0  3]\n",
            " [ 4  0]\n",
            " [ 3  1]\n",
            " [ 2  2]\n",
            " [ 1  3]\n",
            " [ 0  4]\n",
            " [ 5  0]\n",
            " [ 4  1]\n",
            " [ 3  2]\n",
            " [ 2  3]\n",
            " [ 1  4]\n",
            " [ 0  5]\n",
            " [ 6  0]\n",
            " [ 5  1]\n",
            " [ 4  2]\n",
            " [ 3  3]\n",
            " [ 2  4]\n",
            " [ 1  5]\n",
            " [ 0  6]\n",
            " [ 7  0]\n",
            " [ 6  1]\n",
            " [ 5  2]\n",
            " [ 4  3]\n",
            " [ 3  4]\n",
            " [ 2  5]\n",
            " [ 1  6]\n",
            " [ 0  7]\n",
            " [ 8  0]\n",
            " [ 7  1]\n",
            " [ 6  2]\n",
            " [ 5  3]\n",
            " [ 4  4]\n",
            " [ 3  5]\n",
            " [ 2  6]\n",
            " [ 1  7]\n",
            " [ 0  8]\n",
            " [ 9  0]\n",
            " [ 8  1]\n",
            " [ 7  2]\n",
            " [ 6  3]\n",
            " [ 5  4]\n",
            " [ 4  5]\n",
            " [ 3  6]\n",
            " [ 2  7]\n",
            " [ 1  8]\n",
            " [ 0  9]\n",
            " [10  0]\n",
            " [ 9  1]\n",
            " [ 8  2]\n",
            " [ 7  3]\n",
            " [ 6  4]\n",
            " [ 5  5]\n",
            " [ 4  6]\n",
            " [ 3  7]\n",
            " [ 2  8]\n",
            " [ 1  9]\n",
            " [ 0 10]\n",
            " [11  0]\n",
            " [10  1]\n",
            " [ 9  2]\n",
            " [ 8  3]\n",
            " [ 7  4]\n",
            " [ 6  5]\n",
            " [ 5  6]\n",
            " [ 4  7]\n",
            " [ 3  8]\n",
            " [ 2  9]\n",
            " [ 1 10]\n",
            " [ 0 11]\n",
            " [12  0]\n",
            " [11  1]\n",
            " [10  2]\n",
            " [ 9  3]\n",
            " [ 8  4]\n",
            " [ 7  5]\n",
            " [ 6  6]\n",
            " [ 5  7]\n",
            " [ 4  8]\n",
            " [ 3  9]\n",
            " [ 2 10]\n",
            " [ 1 11]\n",
            " [ 0 12]\n",
            " [13  0]\n",
            " [12  1]\n",
            " [11  2]\n",
            " [10  3]\n",
            " [ 9  4]\n",
            " [ 8  5]\n",
            " [ 7  6]\n",
            " [ 6  7]\n",
            " [ 5  8]\n",
            " [ 4  9]\n",
            " [ 3 10]\n",
            " [ 2 11]\n",
            " [ 1 12]\n",
            " [ 0 13]\n",
            " [14  0]\n",
            " [13  1]\n",
            " [12  2]\n",
            " [11  3]\n",
            " [10  4]\n",
            " [ 9  5]\n",
            " [ 8  6]\n",
            " [ 7  7]\n",
            " [ 6  8]\n",
            " [ 5  9]\n",
            " [ 4 10]\n",
            " [ 3 11]\n",
            " [ 2 12]\n",
            " [ 1 13]\n",
            " [ 0 14]\n",
            " [15  0]\n",
            " [14  1]\n",
            " [13  2]\n",
            " [12  3]\n",
            " [11  4]\n",
            " [10  5]\n",
            " [ 9  6]\n",
            " [ 8  7]\n",
            " [ 7  8]\n",
            " [ 6  9]\n",
            " [ 5 10]\n",
            " [ 4 11]\n",
            " [ 3 12]\n",
            " [ 2 13]\n",
            " [ 1 14]\n",
            " [ 0 15]\n",
            " [16  0]\n",
            " [15  1]\n",
            " [14  2]\n",
            " [13  3]\n",
            " [12  4]\n",
            " [11  5]\n",
            " [10  6]\n",
            " [ 9  7]\n",
            " [ 8  8]\n",
            " [ 7  9]\n",
            " [ 6 10]\n",
            " [ 5 11]\n",
            " [ 4 12]\n",
            " [ 3 13]\n",
            " [ 2 14]\n",
            " [ 1 15]\n",
            " [ 0 16]\n",
            " [17  0]\n",
            " [16  1]\n",
            " [15  2]\n",
            " [14  3]\n",
            " [13  4]\n",
            " [12  5]\n",
            " [11  6]\n",
            " [10  7]\n",
            " [ 9  8]\n",
            " [ 8  9]\n",
            " [ 7 10]\n",
            " [ 6 11]\n",
            " [ 5 12]\n",
            " [ 4 13]\n",
            " [ 3 14]\n",
            " [ 2 15]\n",
            " [ 1 16]\n",
            " [ 0 17]\n",
            " [18  0]\n",
            " [17  1]\n",
            " [16  2]\n",
            " [15  3]\n",
            " [14  4]\n",
            " [13  5]\n",
            " [12  6]\n",
            " [11  7]\n",
            " [10  8]\n",
            " [ 9  9]\n",
            " [ 8 10]\n",
            " [ 7 11]\n",
            " [ 6 12]\n",
            " [ 5 13]\n",
            " [ 4 14]\n",
            " [ 3 15]\n",
            " [ 2 16]\n",
            " [ 1 17]\n",
            " [ 0 18]\n",
            " [19  0]\n",
            " [18  1]\n",
            " [17  2]\n",
            " [16  3]\n",
            " [15  4]\n",
            " [14  5]\n",
            " [13  6]\n",
            " [12  7]\n",
            " [11  8]\n",
            " [10  9]\n",
            " [ 9 10]\n",
            " [ 8 11]\n",
            " [ 7 12]\n",
            " [ 6 13]\n",
            " [ 5 14]\n",
            " [ 4 15]\n",
            " [ 3 16]\n",
            " [ 2 17]\n",
            " [ 1 18]\n",
            " [ 0 19]\n",
            " [20  0]\n",
            " [19  1]\n",
            " [18  2]\n",
            " [17  3]\n",
            " [16  4]\n",
            " [15  5]\n",
            " [14  6]\n",
            " [13  7]\n",
            " [12  8]\n",
            " [11  9]\n",
            " [10 10]\n",
            " [ 9 11]\n",
            " [ 8 12]\n",
            " [ 7 13]\n",
            " [ 6 14]\n",
            " [ 5 15]\n",
            " [ 4 16]\n",
            " [ 3 17]\n",
            " [ 2 18]\n",
            " [ 1 19]\n",
            " [ 0 20]\n",
            " [21  0]\n",
            " [20  1]\n",
            " [19  2]\n",
            " [18  3]\n",
            " [17  4]\n",
            " [16  5]\n",
            " [15  6]\n",
            " [14  7]\n",
            " [13  8]\n",
            " [12  9]\n",
            " [11 10]\n",
            " [10 11]\n",
            " [ 9 12]\n",
            " [ 8 13]\n",
            " [ 7 14]\n",
            " [ 6 15]\n",
            " [ 5 16]\n",
            " [ 4 17]\n",
            " [ 3 18]\n",
            " [ 2 19]\n",
            " [ 1 20]\n",
            " [ 0 21]\n",
            " [22  0]\n",
            " [21  1]\n",
            " [20  2]\n",
            " [19  3]\n",
            " [18  4]\n",
            " [17  5]\n",
            " [16  6]\n",
            " [15  7]\n",
            " [14  8]\n",
            " [13  9]\n",
            " [12 10]\n",
            " [11 11]\n",
            " [10 12]\n",
            " [ 9 13]\n",
            " [ 8 14]\n",
            " [ 7 15]\n",
            " [ 6 16]\n",
            " [ 5 17]\n",
            " [ 4 18]\n",
            " [ 3 19]\n",
            " [ 2 20]\n",
            " [ 1 21]\n",
            " [ 0 22]\n",
            " [23  0]\n",
            " [22  1]\n",
            " [21  2]\n",
            " [20  3]\n",
            " [19  4]\n",
            " [18  5]\n",
            " [17  6]\n",
            " [16  7]\n",
            " [15  8]\n",
            " [14  9]\n",
            " [13 10]\n",
            " [12 11]\n",
            " [11 12]\n",
            " [10 13]\n",
            " [ 9 14]\n",
            " [ 8 15]\n",
            " [ 7 16]\n",
            " [ 6 17]\n",
            " [ 5 18]\n",
            " [ 4 19]\n",
            " [ 3 20]\n",
            " [ 2 21]\n",
            " [ 1 22]\n",
            " [ 0 23]\n",
            " [24  0]\n",
            " [23  1]\n",
            " [22  2]\n",
            " [21  3]\n",
            " [20  4]\n",
            " [19  5]\n",
            " [18  6]\n",
            " [17  7]\n",
            " [16  8]\n",
            " [15  9]\n",
            " [14 10]\n",
            " [13 11]\n",
            " [12 12]\n",
            " [11 13]\n",
            " [10 14]\n",
            " [ 9 15]\n",
            " [ 8 16]\n",
            " [ 7 17]\n",
            " [ 6 18]\n",
            " [ 5 19]\n",
            " [ 4 20]\n",
            " [ 3 21]\n",
            " [ 2 22]\n",
            " [ 1 23]\n",
            " [ 0 24]\n",
            " [25  0]\n",
            " [24  1]\n",
            " [23  2]\n",
            " [22  3]\n",
            " [21  4]\n",
            " [20  5]\n",
            " [19  6]\n",
            " [18  7]\n",
            " [17  8]\n",
            " [16  9]\n",
            " [15 10]\n",
            " [14 11]\n",
            " [13 12]\n",
            " [12 13]\n",
            " [11 14]\n",
            " [10 15]\n",
            " [ 9 16]\n",
            " [ 8 17]\n",
            " [ 7 18]\n",
            " [ 6 19]\n",
            " [ 5 20]\n",
            " [ 4 21]\n",
            " [ 3 22]\n",
            " [ 2 23]\n",
            " [ 1 24]\n",
            " [ 0 25]\n",
            " [26  0]\n",
            " [25  1]\n",
            " [24  2]\n",
            " [23  3]\n",
            " [22  4]\n",
            " [21  5]\n",
            " [20  6]\n",
            " [19  7]\n",
            " [18  8]\n",
            " [17  9]\n",
            " [16 10]\n",
            " [15 11]\n",
            " [14 12]\n",
            " [13 13]\n",
            " [12 14]\n",
            " [11 15]\n",
            " [10 16]\n",
            " [ 9 17]\n",
            " [ 8 18]\n",
            " [ 7 19]\n",
            " [ 6 20]\n",
            " [ 5 21]\n",
            " [ 4 22]\n",
            " [ 3 23]\n",
            " [ 2 24]\n",
            " [ 1 25]\n",
            " [ 0 26]\n",
            " [27  0]\n",
            " [26  1]\n",
            " [25  2]\n",
            " [24  3]\n",
            " [23  4]\n",
            " [22  5]\n",
            " [21  6]\n",
            " [20  7]\n",
            " [19  8]\n",
            " [18  9]\n",
            " [17 10]\n",
            " [16 11]\n",
            " [15 12]\n",
            " [14 13]\n",
            " [13 14]\n",
            " [12 15]\n",
            " [11 16]\n",
            " [10 17]\n",
            " [ 9 18]\n",
            " [ 8 19]\n",
            " [ 7 20]\n",
            " [ 6 21]\n",
            " [ 5 22]\n",
            " [ 4 23]\n",
            " [ 3 24]\n",
            " [ 2 25]\n",
            " [ 1 26]\n",
            " [ 0 27]\n",
            " [28  0]\n",
            " [27  1]\n",
            " [26  2]\n",
            " [25  3]\n",
            " [24  4]\n",
            " [23  5]\n",
            " [22  6]\n",
            " [21  7]\n",
            " [20  8]\n",
            " [19  9]\n",
            " [18 10]\n",
            " [17 11]\n",
            " [16 12]\n",
            " [15 13]\n",
            " [14 14]\n",
            " [13 15]\n",
            " [12 16]\n",
            " [11 17]\n",
            " [10 18]\n",
            " [ 9 19]\n",
            " [ 8 20]\n",
            " [ 7 21]\n",
            " [ 6 22]\n",
            " [ 5 23]\n",
            " [ 4 24]\n",
            " [ 3 25]\n",
            " [ 2 26]\n",
            " [ 1 27]\n",
            " [ 0 28]\n",
            " [29  0]\n",
            " [28  1]\n",
            " [27  2]\n",
            " [26  3]\n",
            " [25  4]\n",
            " [24  5]\n",
            " [23  6]\n",
            " [22  7]\n",
            " [21  8]\n",
            " [20  9]\n",
            " [19 10]\n",
            " [18 11]\n",
            " [17 12]\n",
            " [16 13]\n",
            " [15 14]\n",
            " [14 15]\n",
            " [13 16]\n",
            " [12 17]\n",
            " [11 18]\n",
            " [10 19]\n",
            " [ 9 20]\n",
            " [ 8 21]\n",
            " [ 7 22]\n",
            " [ 6 23]\n",
            " [ 5 24]\n",
            " [ 4 25]\n",
            " [ 3 26]\n",
            " [ 2 27]\n",
            " [ 1 28]\n",
            " [ 0 29]\n",
            " [30  0]\n",
            " [29  1]\n",
            " [28  2]\n",
            " [27  3]\n",
            " [26  4]\n",
            " [25  5]\n",
            " [24  6]\n",
            " [23  7]\n",
            " [22  8]\n",
            " [21  9]\n",
            " [20 10]\n",
            " [19 11]\n",
            " [18 12]\n",
            " [17 13]\n",
            " [16 14]\n",
            " [15 15]\n",
            " [14 16]\n",
            " [13 17]\n",
            " [12 18]\n",
            " [11 19]\n",
            " [10 20]\n",
            " [ 9 21]\n",
            " [ 8 22]\n",
            " [ 7 23]\n",
            " [ 6 24]\n",
            " [ 5 25]\n",
            " [ 4 26]\n",
            " [ 3 27]\n",
            " [ 2 28]\n",
            " [ 1 29]\n",
            " [ 0 30]]\n"
          ]
        }
      ]
    },
    {
      "cell_type": "code",
      "source": [
        "X_multi_trans.shape"
      ],
      "metadata": {
        "colab": {
          "base_uri": "https://localhost:8080/"
        },
        "id": "Y8wLNpDSG_yi",
        "outputId": "4513d6d1-8a0c-4040-b801-969937490eac"
      },
      "execution_count": 31,
      "outputs": [
        {
          "output_type": "execute_result",
          "data": {
            "text/plain": [
              "(100, 496)"
            ]
          },
          "metadata": {},
          "execution_count": 31
        }
      ]
    },
    {
      "cell_type": "code",
      "source": [
        "lr = LinearRegression()\n",
        "lr.fit(X_multi_trans,z)"
      ],
      "metadata": {
        "colab": {
          "base_uri": "https://localhost:8080/",
          "height": 75
        },
        "id": "lF3L-uRJHEfy",
        "outputId": "2dc083c7-656f-4de1-c48a-b62f4a0d42d4"
      },
      "execution_count": 32,
      "outputs": [
        {
          "output_type": "execute_result",
          "data": {
            "text/plain": [
              "LinearRegression()"
            ],
            "text/html": [
              "<style>#sk-container-id-3 {color: black;background-color: white;}#sk-container-id-3 pre{padding: 0;}#sk-container-id-3 div.sk-toggleable {background-color: white;}#sk-container-id-3 label.sk-toggleable__label {cursor: pointer;display: block;width: 100%;margin-bottom: 0;padding: 0.3em;box-sizing: border-box;text-align: center;}#sk-container-id-3 label.sk-toggleable__label-arrow:before {content: \"▸\";float: left;margin-right: 0.25em;color: #696969;}#sk-container-id-3 label.sk-toggleable__label-arrow:hover:before {color: black;}#sk-container-id-3 div.sk-estimator:hover label.sk-toggleable__label-arrow:before {color: black;}#sk-container-id-3 div.sk-toggleable__content {max-height: 0;max-width: 0;overflow: hidden;text-align: left;background-color: #f0f8ff;}#sk-container-id-3 div.sk-toggleable__content pre {margin: 0.2em;color: black;border-radius: 0.25em;background-color: #f0f8ff;}#sk-container-id-3 input.sk-toggleable__control:checked~div.sk-toggleable__content {max-height: 200px;max-width: 100%;overflow: auto;}#sk-container-id-3 input.sk-toggleable__control:checked~label.sk-toggleable__label-arrow:before {content: \"▾\";}#sk-container-id-3 div.sk-estimator input.sk-toggleable__control:checked~label.sk-toggleable__label {background-color: #d4ebff;}#sk-container-id-3 div.sk-label input.sk-toggleable__control:checked~label.sk-toggleable__label {background-color: #d4ebff;}#sk-container-id-3 input.sk-hidden--visually {border: 0;clip: rect(1px 1px 1px 1px);clip: rect(1px, 1px, 1px, 1px);height: 1px;margin: -1px;overflow: hidden;padding: 0;position: absolute;width: 1px;}#sk-container-id-3 div.sk-estimator {font-family: monospace;background-color: #f0f8ff;border: 1px dotted black;border-radius: 0.25em;box-sizing: border-box;margin-bottom: 0.5em;}#sk-container-id-3 div.sk-estimator:hover {background-color: #d4ebff;}#sk-container-id-3 div.sk-parallel-item::after {content: \"\";width: 100%;border-bottom: 1px solid gray;flex-grow: 1;}#sk-container-id-3 div.sk-label:hover label.sk-toggleable__label {background-color: #d4ebff;}#sk-container-id-3 div.sk-serial::before {content: \"\";position: absolute;border-left: 1px solid gray;box-sizing: border-box;top: 0;bottom: 0;left: 50%;z-index: 0;}#sk-container-id-3 div.sk-serial {display: flex;flex-direction: column;align-items: center;background-color: white;padding-right: 0.2em;padding-left: 0.2em;position: relative;}#sk-container-id-3 div.sk-item {position: relative;z-index: 1;}#sk-container-id-3 div.sk-parallel {display: flex;align-items: stretch;justify-content: center;background-color: white;position: relative;}#sk-container-id-3 div.sk-item::before, #sk-container-id-3 div.sk-parallel-item::before {content: \"\";position: absolute;border-left: 1px solid gray;box-sizing: border-box;top: 0;bottom: 0;left: 50%;z-index: -1;}#sk-container-id-3 div.sk-parallel-item {display: flex;flex-direction: column;z-index: 1;position: relative;background-color: white;}#sk-container-id-3 div.sk-parallel-item:first-child::after {align-self: flex-end;width: 50%;}#sk-container-id-3 div.sk-parallel-item:last-child::after {align-self: flex-start;width: 50%;}#sk-container-id-3 div.sk-parallel-item:only-child::after {width: 0;}#sk-container-id-3 div.sk-dashed-wrapped {border: 1px dashed gray;margin: 0 0.4em 0.5em 0.4em;box-sizing: border-box;padding-bottom: 0.4em;background-color: white;}#sk-container-id-3 div.sk-label label {font-family: monospace;font-weight: bold;display: inline-block;line-height: 1.2em;}#sk-container-id-3 div.sk-label-container {text-align: center;}#sk-container-id-3 div.sk-container {/* jupyter's `normalize.less` sets `[hidden] { display: none; }` but bootstrap.min.css set `[hidden] { display: none !important; }` so we also need the `!important` here to be able to override the default hidden behavior on the sphinx rendered scikit-learn.org. See: https://github.com/scikit-learn/scikit-learn/issues/21755 */display: inline-block !important;position: relative;}#sk-container-id-3 div.sk-text-repr-fallback {display: none;}</style><div id=\"sk-container-id-3\" class=\"sk-top-container\"><div class=\"sk-text-repr-fallback\"><pre>LinearRegression()</pre><b>In a Jupyter environment, please rerun this cell to show the HTML representation or trust the notebook. <br />On GitHub, the HTML representation is unable to render, please try loading this page with nbviewer.org.</b></div><div class=\"sk-container\" hidden><div class=\"sk-item\"><div class=\"sk-estimator sk-toggleable\"><input class=\"sk-toggleable__control sk-hidden--visually\" id=\"sk-estimator-id-3\" type=\"checkbox\" checked><label for=\"sk-estimator-id-3\" class=\"sk-toggleable__label sk-toggleable__label-arrow\">LinearRegression</label><div class=\"sk-toggleable__content\"><pre>LinearRegression()</pre></div></div></div></div></div>"
            ]
          },
          "metadata": {},
          "execution_count": 32
        }
      ]
    },
    {
      "cell_type": "code",
      "source": [
        "X_test_multi = poly.transform(final)"
      ],
      "metadata": {
        "id": "9mahzUu0HGcA"
      },
      "execution_count": 33,
      "outputs": []
    },
    {
      "cell_type": "code",
      "source": [
        "z_final = lr.predict(X_multi_trans).reshape(10,10)"
      ],
      "metadata": {
        "id": "F1PVtNkAHIT9"
      },
      "execution_count": 34,
      "outputs": []
    },
    {
      "cell_type": "code",
      "source": [
        "fig = px.scatter_3d(x=x.ravel(), y=y.ravel(), z=z.ravel())\n",
        "\n",
        "fig.add_trace(go.Surface(x = x_input, y = y_input, z =z_final))\n",
        "\n",
        "fig.update_layout(scene = dict(zaxis = dict(range=[0,35])))\n",
        "\n",
        "fig.show()"
      ],
      "metadata": {
        "colab": {
          "base_uri": "https://localhost:8080/",
          "height": 542
        },
        "id": "79pOtstCHKzR",
        "outputId": "bbd0dec6-79f7-4648-e345-643c50a2ae23"
      },
      "execution_count": 35,
      "outputs": [
        {
          "output_type": "display_data",
          "data": {
            "text/html": [
              "<html>\n",
              "<head><meta charset=\"utf-8\" /></head>\n",
              "<body>\n",
              "    <div>            <script src=\"https://cdnjs.cloudflare.com/ajax/libs/mathjax/2.7.5/MathJax.js?config=TeX-AMS-MML_SVG\"></script><script type=\"text/javascript\">if (window.MathJax && window.MathJax.Hub && window.MathJax.Hub.Config) {window.MathJax.Hub.Config({SVG: {font: \"STIX-Web\"}});}</script>                <script type=\"text/javascript\">window.PlotlyConfig = {MathJaxConfig: 'local'};</script>\n",
              "        <script charset=\"utf-8\" src=\"https://cdn.plot.ly/plotly-2.24.1.min.js\"></script>                <div id=\"99a9196a-7d6a-483f-ba44-90780d25fa29\" class=\"plotly-graph-div\" style=\"height:525px; width:100%;\"></div>            <script type=\"text/javascript\">                                    window.PLOTLYENV=window.PLOTLYENV || {};                                    if (document.getElementById(\"99a9196a-7d6a-483f-ba44-90780d25fa29\")) {                    Plotly.newPlot(                        \"99a9196a-7d6a-483f-ba44-90780d25fa29\",                        [{\"hovertemplate\":\"x=%{x}\\u003cbr\\u003ey=%{y}\\u003cbr\\u003ez=%{z}\\u003cextra\\u003e\\u003c\\u002fextra\\u003e\",\"legendgroup\":\"\",\"marker\":{\"color\":\"#636efa\",\"symbol\":\"circle\"},\"mode\":\"markers\",\"name\":\"\",\"scene\":\"scene\",\"showlegend\":false,\"x\":[-0.5788625766091942,3.317007543176074,-2.7572481941940206,-2.306501058933976,3.650328235170102,1.8709688400232949,0.03156981367132783,2.639318693200658,-0.5691242505375893,-2.111278305203269,-2.7822415959037947,-0.9529008821152896,3.3947229607121834,1.4837649996667022,-1.3365398419538876,1.1546045193998937,-2.014332981713305,-2.4233197145343968,2.0083233486346987,-0.0395356866363894,0.7762351271437327,-2.1397077223604146,3.4320402171671596,-2.4827716827606388,1.224338658885114,-0.6275314711887656,2.0795125697628247,-2.3148843671820885,-0.3784323454174623,3.04953834522727,1.1485440930617385,4.087810564609628,-2.321869298197967,0.13505850130257624,1.1328515674066004,-2.2892964201471355,1.786002644450999,-0.5691417568736048,-2.5264347484030196,-1.2723511895650834,-0.9739168801250697,2.4301233104848174,-0.07005653855034444,3.57212308563681,2.781006659750269,1.9939047436094013,0.4450300506600051,2.32598865157905,2.67601820218841,0.7807795201023673,-1.6313515193880335,3.879747957401478,-0.9409756516429413,-2.4564877683269373,-0.4926821274227762,-2.733962526053096,-0.7922031444224382,3.7732152195424744,0.9708466462851537,1.7578018852417232,2.8496677879864007,-0.2692854157675857,3.6867601407824138,-0.11921146394857374,-2.481444586744929,2.0009847477391878,1.2786209012426193,-1.45908608953114,0.45900181737517043,0.32803111249449124,2.4755796611498155,0.2691924569999884,-0.18401147814496444,2.0801452218549077,1.7944447348863104,-0.1294674498572035,0.14346848693145287,-2.1951522111281108,-2.601966724253006,-0.3793685653073049,0.8629979215621191,-1.7341367674078034,1.814632221926444,2.2667368851327163,1.4283974031648201,0.8682869554293084,-0.12110036611931108,2.694039902609032,4.149795122240948,-0.5478766305803355,-1.9307148436610435,-2.65042417007147,-1.9841708775357407,-2.552112314089202,1.9331806116376118,0.7138497878358288,-0.9972685242646131,-1.734755682980328,-2.2433827609744434,0.8078524654464316],\"y\":[1.0470788238935151,3.4399739479472125,2.308522724375303,2.885480521124352,-2.41253197537898,-0.9556142068479194,-2.2032153859093855,-1.7956807629485005,-0.3427362137977683,-0.48608177738974234,1.0423404075590712,-2.3197351953628385,-0.6549872351095485,3.1448523032105724,1.8916443671479417,0.6106663685531024,4.120939943489926,1.2083446323720954,3.7943525620154963,3.9744158742419513,4.17556844876056,-2.104303268422773,3.7531261756456225,-1.2545712289044915,-0.527420117604879,2.2308645751732117,1.8216840927405729,3.095867770834384,1.3240443692965522,1.3536135542835845,-2.7644940773673747,1.266429640261931,-0.32416553732887365,0.968597487573323,-2.172172680190542,2.271380025928879,4.0576463351436205,-0.6233032504988678,1.8637208111558863,3.2060615323558554,3.547671073536365,-1.3290799466069845,2.0157622823427985,3.110802955338807,3.144006392784102,-1.7875581231638429,4.0910836023234385,3.9073416544901356,2.315163125382922,-0.6660431736569037,1.0645245241667594,1.5445708680832562,-2.7086635146013167,2.864511833635663,-1.7191404878762544,3.2782964867136597,3.965122883556238,-2.249171242144605,0.8759832760385233,2.0537813381436445,-0.8020377517828936,2.688685553888032,-0.4071449291048608,-1.5543834064382664,3.7400659667082907,0.22586605132046778,-0.33428402241478183,1.9843809352436832,-0.263749078349623,-2.205396797815624,3.110436372382689,2.7773611969979166,-2.281612321967761,1.5058343961880425,-1.0967460388357924,1.286093755798813,4.186346802840465,0.053881622288609154,3.8810441450631323,-0.2829917419147634,2.178366743165194,-1.3803445962584204,-1.957759938622131,2.4546027573980593,3.4470259183829537,-0.12344090843953603,3.310857967709355,0.7332430852679499,0.478586378569573,0.3550734354052625,-2.14779855132882,1.1134516334776667,-1.1718001647263847,3.951186815228273,-0.19127809044621458,-2.5736130429509925,2.160908235845837,2.3006405800470215,-0.7688319227542637,-1.9339032254727029],\"z\":[4.108468640984792,25.82087240437619,13.776441515732678,14.300350820469937,19.441247571846905,5.7874857743414525,6.83388660523527,9.575388076819534,1.2679335922194126,5.703468482365537,9.428917927470616,9.035484820744918,14.64905359553102,14.76558720475029,7.945183193324098,3.728807666894923,23.339636972278736,9.684352678345935,21.27877664642663,17.94688814384202,22.108895671670638,9.944556588912654,29.14927974959328,8.143194757875323,3.457581418903999,8.504937279549665,10.84478003961742,16.500297328920325,2.698507112709152,15.294522377905619,10.553898759333393,22.28973077912484,6.9362062526632355,4.292612662172684,7.554992483581386,11.837584598953635,25.085343931572506,2.858944494629619,9.988972835099688,16.452797948602527,15.519810962286995,9.683154020773786,7.052969990135712,25.46744720298603,21.753015217244272,9.259585446612377,19.740913923785808,23.760299565071914,14.965055172143085,2.908220622108907,7.396845627468872,21.920792272411155,9.595712948082442,12.875558748987343,5.630141489091487,21.261935009160084,18.588666330624033,22.821472727819806,4.638295174747237,10.182912793307581,10.822233075684172,8.144203334776261,17.087957308768704,3.3469070637300176,19.473294077563743,4.792532496130978,2.6211971646266212,7.876604263700773,1.5822802014399784,5.99214373948074,19.72227810883597,10.698439233505738,6.642103185984909,9.602189965955242,6.013232557852773,4.693858280934482,20.236422966600582,7.028250643350705,24.463339552630185,3.7487045699934294,8.784026443849973,7.286581379399039,6.584870713851627,14.495176695224187,16.844639469544386,2.435731309483333,13.212364145697029,11.34409745217966,19.07312731998859,1.8239338630403406,10.930584943817646,8.296365657767579,5.48013059518021,22.58771841929269,6.674720008170399,9.393294843224895,7.719809302546228,11.01974240174067,6.564602543690109,5.304774920638324],\"type\":\"scatter3d\"},{\"x\":[-2.7822415959037947,-2.0120152938877123,-1.2417889918716296,-0.47156268985554695,0.2986636121605355,1.068889914176618,1.8391162161927008,2.6093425182087833,3.3795688202248657,4.149795122240948],\"y\":[-2.7644940773673747,-1.9921784240109481,-1.2198627706545215,-0.44754711729809493,0.32476853605833167,1.0970841894147583,1.8693998427711849,2.6417154961276115,3.414031149484038,4.186346802840465],\"z\":[[4.103577215422334,25.80078240131253,13.776488859404267,14.306126425240578,19.44005282573336,5.792394820798577,6.829833585966767,10.149904970076523,1.2312401842441574,5.70690111773412],[9.425906344103637,9.030013639677705,7.598885306935444,14.757106149534152,7.937302403349818,3.7032161543261424,23.332069960184086,9.680027672724023,21.29542530426177,17.89018479288781],[22.12571949368568,9.941737730253877,29.143717993248643,8.141426395677186,3.4137746283900157,8.506682951201142,10.81424475294763,16.491466127533855,2.6974254438769236,15.300744563451204],[10.55456480776185,22.284698087919892,6.92908489723915,4.28492445198936,7.605590084112798,11.831403167650492,25.080885649267216,2.789955122990321,9.988649440632358,16.423262460355105],[15.519154487064114,9.679963012714794,9.11108290271324,25.476082897942902,21.769622404326142,9.261857863713445,19.732255548436584,23.736961458982947,14.966791322762575,2.9031303743918357],[7.389707166899385,21.915452916372956,9.581308903370441,12.871491571620496,7.605590129492014,21.261696688388398,18.577818889368714,22.846352663243593,4.697845060576142,10.261809904326142],[10.795013029326142,8.13886984084958,17.08642207361983,3.3456137964617625,19.380113556555592,4.788915075559558,7.6054239223063265,7.917203963932039,1.5821224043261424,5.985988933790864],[19.72006757949704,10.694630343664826,6.639452059019746,9.980559904326142,6.013223482406389,4.638422847803106,20.23272093032712,7.024831373442353,24.441497404326142,3.7452508534893383],[8.854439091135205,7.31171783020225,6.584228117216767,14.498083218192292,16.842366035439696,2.4316364118945017,13.209858694755454,7.948224659826081,19.112395841826142,1.8221126387011424],[10.927865899380336,8.302766819682361,5.476317960966767,22.582455236662568,7.6055901190796025,9.390214029537233,7.727141935576142,11.048304475110413,6.510739893617497,5.298636648015432]],\"type\":\"surface\"}],                        {\"template\":{\"data\":{\"histogram2dcontour\":[{\"type\":\"histogram2dcontour\",\"colorbar\":{\"outlinewidth\":0,\"ticks\":\"\"},\"colorscale\":[[0.0,\"#0d0887\"],[0.1111111111111111,\"#46039f\"],[0.2222222222222222,\"#7201a8\"],[0.3333333333333333,\"#9c179e\"],[0.4444444444444444,\"#bd3786\"],[0.5555555555555556,\"#d8576b\"],[0.6666666666666666,\"#ed7953\"],[0.7777777777777778,\"#fb9f3a\"],[0.8888888888888888,\"#fdca26\"],[1.0,\"#f0f921\"]]}],\"choropleth\":[{\"type\":\"choropleth\",\"colorbar\":{\"outlinewidth\":0,\"ticks\":\"\"}}],\"histogram2d\":[{\"type\":\"histogram2d\",\"colorbar\":{\"outlinewidth\":0,\"ticks\":\"\"},\"colorscale\":[[0.0,\"#0d0887\"],[0.1111111111111111,\"#46039f\"],[0.2222222222222222,\"#7201a8\"],[0.3333333333333333,\"#9c179e\"],[0.4444444444444444,\"#bd3786\"],[0.5555555555555556,\"#d8576b\"],[0.6666666666666666,\"#ed7953\"],[0.7777777777777778,\"#fb9f3a\"],[0.8888888888888888,\"#fdca26\"],[1.0,\"#f0f921\"]]}],\"heatmap\":[{\"type\":\"heatmap\",\"colorbar\":{\"outlinewidth\":0,\"ticks\":\"\"},\"colorscale\":[[0.0,\"#0d0887\"],[0.1111111111111111,\"#46039f\"],[0.2222222222222222,\"#7201a8\"],[0.3333333333333333,\"#9c179e\"],[0.4444444444444444,\"#bd3786\"],[0.5555555555555556,\"#d8576b\"],[0.6666666666666666,\"#ed7953\"],[0.7777777777777778,\"#fb9f3a\"],[0.8888888888888888,\"#fdca26\"],[1.0,\"#f0f921\"]]}],\"heatmapgl\":[{\"type\":\"heatmapgl\",\"colorbar\":{\"outlinewidth\":0,\"ticks\":\"\"},\"colorscale\":[[0.0,\"#0d0887\"],[0.1111111111111111,\"#46039f\"],[0.2222222222222222,\"#7201a8\"],[0.3333333333333333,\"#9c179e\"],[0.4444444444444444,\"#bd3786\"],[0.5555555555555556,\"#d8576b\"],[0.6666666666666666,\"#ed7953\"],[0.7777777777777778,\"#fb9f3a\"],[0.8888888888888888,\"#fdca26\"],[1.0,\"#f0f921\"]]}],\"contourcarpet\":[{\"type\":\"contourcarpet\",\"colorbar\":{\"outlinewidth\":0,\"ticks\":\"\"}}],\"contour\":[{\"type\":\"contour\",\"colorbar\":{\"outlinewidth\":0,\"ticks\":\"\"},\"colorscale\":[[0.0,\"#0d0887\"],[0.1111111111111111,\"#46039f\"],[0.2222222222222222,\"#7201a8\"],[0.3333333333333333,\"#9c179e\"],[0.4444444444444444,\"#bd3786\"],[0.5555555555555556,\"#d8576b\"],[0.6666666666666666,\"#ed7953\"],[0.7777777777777778,\"#fb9f3a\"],[0.8888888888888888,\"#fdca26\"],[1.0,\"#f0f921\"]]}],\"surface\":[{\"type\":\"surface\",\"colorbar\":{\"outlinewidth\":0,\"ticks\":\"\"},\"colorscale\":[[0.0,\"#0d0887\"],[0.1111111111111111,\"#46039f\"],[0.2222222222222222,\"#7201a8\"],[0.3333333333333333,\"#9c179e\"],[0.4444444444444444,\"#bd3786\"],[0.5555555555555556,\"#d8576b\"],[0.6666666666666666,\"#ed7953\"],[0.7777777777777778,\"#fb9f3a\"],[0.8888888888888888,\"#fdca26\"],[1.0,\"#f0f921\"]]}],\"mesh3d\":[{\"type\":\"mesh3d\",\"colorbar\":{\"outlinewidth\":0,\"ticks\":\"\"}}],\"scatter\":[{\"fillpattern\":{\"fillmode\":\"overlay\",\"size\":10,\"solidity\":0.2},\"type\":\"scatter\"}],\"parcoords\":[{\"type\":\"parcoords\",\"line\":{\"colorbar\":{\"outlinewidth\":0,\"ticks\":\"\"}}}],\"scatterpolargl\":[{\"type\":\"scatterpolargl\",\"marker\":{\"colorbar\":{\"outlinewidth\":0,\"ticks\":\"\"}}}],\"bar\":[{\"error_x\":{\"color\":\"#2a3f5f\"},\"error_y\":{\"color\":\"#2a3f5f\"},\"marker\":{\"line\":{\"color\":\"#E5ECF6\",\"width\":0.5},\"pattern\":{\"fillmode\":\"overlay\",\"size\":10,\"solidity\":0.2}},\"type\":\"bar\"}],\"scattergeo\":[{\"type\":\"scattergeo\",\"marker\":{\"colorbar\":{\"outlinewidth\":0,\"ticks\":\"\"}}}],\"scatterpolar\":[{\"type\":\"scatterpolar\",\"marker\":{\"colorbar\":{\"outlinewidth\":0,\"ticks\":\"\"}}}],\"histogram\":[{\"marker\":{\"pattern\":{\"fillmode\":\"overlay\",\"size\":10,\"solidity\":0.2}},\"type\":\"histogram\"}],\"scattergl\":[{\"type\":\"scattergl\",\"marker\":{\"colorbar\":{\"outlinewidth\":0,\"ticks\":\"\"}}}],\"scatter3d\":[{\"type\":\"scatter3d\",\"line\":{\"colorbar\":{\"outlinewidth\":0,\"ticks\":\"\"}},\"marker\":{\"colorbar\":{\"outlinewidth\":0,\"ticks\":\"\"}}}],\"scattermapbox\":[{\"type\":\"scattermapbox\",\"marker\":{\"colorbar\":{\"outlinewidth\":0,\"ticks\":\"\"}}}],\"scatterternary\":[{\"type\":\"scatterternary\",\"marker\":{\"colorbar\":{\"outlinewidth\":0,\"ticks\":\"\"}}}],\"scattercarpet\":[{\"type\":\"scattercarpet\",\"marker\":{\"colorbar\":{\"outlinewidth\":0,\"ticks\":\"\"}}}],\"carpet\":[{\"aaxis\":{\"endlinecolor\":\"#2a3f5f\",\"gridcolor\":\"white\",\"linecolor\":\"white\",\"minorgridcolor\":\"white\",\"startlinecolor\":\"#2a3f5f\"},\"baxis\":{\"endlinecolor\":\"#2a3f5f\",\"gridcolor\":\"white\",\"linecolor\":\"white\",\"minorgridcolor\":\"white\",\"startlinecolor\":\"#2a3f5f\"},\"type\":\"carpet\"}],\"table\":[{\"cells\":{\"fill\":{\"color\":\"#EBF0F8\"},\"line\":{\"color\":\"white\"}},\"header\":{\"fill\":{\"color\":\"#C8D4E3\"},\"line\":{\"color\":\"white\"}},\"type\":\"table\"}],\"barpolar\":[{\"marker\":{\"line\":{\"color\":\"#E5ECF6\",\"width\":0.5},\"pattern\":{\"fillmode\":\"overlay\",\"size\":10,\"solidity\":0.2}},\"type\":\"barpolar\"}],\"pie\":[{\"automargin\":true,\"type\":\"pie\"}]},\"layout\":{\"autotypenumbers\":\"strict\",\"colorway\":[\"#636efa\",\"#EF553B\",\"#00cc96\",\"#ab63fa\",\"#FFA15A\",\"#19d3f3\",\"#FF6692\",\"#B6E880\",\"#FF97FF\",\"#FECB52\"],\"font\":{\"color\":\"#2a3f5f\"},\"hovermode\":\"closest\",\"hoverlabel\":{\"align\":\"left\"},\"paper_bgcolor\":\"white\",\"plot_bgcolor\":\"#E5ECF6\",\"polar\":{\"bgcolor\":\"#E5ECF6\",\"angularaxis\":{\"gridcolor\":\"white\",\"linecolor\":\"white\",\"ticks\":\"\"},\"radialaxis\":{\"gridcolor\":\"white\",\"linecolor\":\"white\",\"ticks\":\"\"}},\"ternary\":{\"bgcolor\":\"#E5ECF6\",\"aaxis\":{\"gridcolor\":\"white\",\"linecolor\":\"white\",\"ticks\":\"\"},\"baxis\":{\"gridcolor\":\"white\",\"linecolor\":\"white\",\"ticks\":\"\"},\"caxis\":{\"gridcolor\":\"white\",\"linecolor\":\"white\",\"ticks\":\"\"}},\"coloraxis\":{\"colorbar\":{\"outlinewidth\":0,\"ticks\":\"\"}},\"colorscale\":{\"sequential\":[[0.0,\"#0d0887\"],[0.1111111111111111,\"#46039f\"],[0.2222222222222222,\"#7201a8\"],[0.3333333333333333,\"#9c179e\"],[0.4444444444444444,\"#bd3786\"],[0.5555555555555556,\"#d8576b\"],[0.6666666666666666,\"#ed7953\"],[0.7777777777777778,\"#fb9f3a\"],[0.8888888888888888,\"#fdca26\"],[1.0,\"#f0f921\"]],\"sequentialminus\":[[0.0,\"#0d0887\"],[0.1111111111111111,\"#46039f\"],[0.2222222222222222,\"#7201a8\"],[0.3333333333333333,\"#9c179e\"],[0.4444444444444444,\"#bd3786\"],[0.5555555555555556,\"#d8576b\"],[0.6666666666666666,\"#ed7953\"],[0.7777777777777778,\"#fb9f3a\"],[0.8888888888888888,\"#fdca26\"],[1.0,\"#f0f921\"]],\"diverging\":[[0,\"#8e0152\"],[0.1,\"#c51b7d\"],[0.2,\"#de77ae\"],[0.3,\"#f1b6da\"],[0.4,\"#fde0ef\"],[0.5,\"#f7f7f7\"],[0.6,\"#e6f5d0\"],[0.7,\"#b8e186\"],[0.8,\"#7fbc41\"],[0.9,\"#4d9221\"],[1,\"#276419\"]]},\"xaxis\":{\"gridcolor\":\"white\",\"linecolor\":\"white\",\"ticks\":\"\",\"title\":{\"standoff\":15},\"zerolinecolor\":\"white\",\"automargin\":true,\"zerolinewidth\":2},\"yaxis\":{\"gridcolor\":\"white\",\"linecolor\":\"white\",\"ticks\":\"\",\"title\":{\"standoff\":15},\"zerolinecolor\":\"white\",\"automargin\":true,\"zerolinewidth\":2},\"scene\":{\"xaxis\":{\"backgroundcolor\":\"#E5ECF6\",\"gridcolor\":\"white\",\"linecolor\":\"white\",\"showbackground\":true,\"ticks\":\"\",\"zerolinecolor\":\"white\",\"gridwidth\":2},\"yaxis\":{\"backgroundcolor\":\"#E5ECF6\",\"gridcolor\":\"white\",\"linecolor\":\"white\",\"showbackground\":true,\"ticks\":\"\",\"zerolinecolor\":\"white\",\"gridwidth\":2},\"zaxis\":{\"backgroundcolor\":\"#E5ECF6\",\"gridcolor\":\"white\",\"linecolor\":\"white\",\"showbackground\":true,\"ticks\":\"\",\"zerolinecolor\":\"white\",\"gridwidth\":2}},\"shapedefaults\":{\"line\":{\"color\":\"#2a3f5f\"}},\"annotationdefaults\":{\"arrowcolor\":\"#2a3f5f\",\"arrowhead\":0,\"arrowwidth\":1},\"geo\":{\"bgcolor\":\"white\",\"landcolor\":\"#E5ECF6\",\"subunitcolor\":\"white\",\"showland\":true,\"showlakes\":true,\"lakecolor\":\"white\"},\"title\":{\"x\":0.05},\"mapbox\":{\"style\":\"light\"}}},\"scene\":{\"domain\":{\"x\":[0.0,1.0],\"y\":[0.0,1.0]},\"xaxis\":{\"title\":{\"text\":\"x\"}},\"yaxis\":{\"title\":{\"text\":\"y\"}},\"zaxis\":{\"title\":{\"text\":\"z\"},\"range\":[0,35]}},\"legend\":{\"tracegroupgap\":0},\"margin\":{\"t\":60}},                        {\"responsive\": true}                    ).then(function(){\n",
              "                            \n",
              "var gd = document.getElementById('99a9196a-7d6a-483f-ba44-90780d25fa29');\n",
              "var x = new MutationObserver(function (mutations, observer) {{\n",
              "        var display = window.getComputedStyle(gd).display;\n",
              "        if (!display || display === 'none') {{\n",
              "            console.log([gd, 'removed!']);\n",
              "            Plotly.purge(gd);\n",
              "            observer.disconnect();\n",
              "        }}\n",
              "}});\n",
              "\n",
              "// Listen for the removal of the full notebook cells\n",
              "var notebookContainer = gd.closest('#notebook-container');\n",
              "if (notebookContainer) {{\n",
              "    x.observe(notebookContainer, {childList: true});\n",
              "}}\n",
              "\n",
              "// Listen for the clearing of the current output cell\n",
              "var outputEl = gd.closest('.output');\n",
              "if (outputEl) {{\n",
              "    x.observe(outputEl, {childList: true});\n",
              "}}\n",
              "\n",
              "                        })                };                            </script>        </div>\n",
              "</body>\n",
              "</html>"
            ]
          },
          "metadata": {}
        }
      ]
    }
  ]
}